{
 "cells": [
  {
   "attachments": {},
   "cell_type": "markdown",
   "metadata": {},
   "source": [
    "## Egyenletes öltségű keresés\n",
    "---\n",
    "\n",
    "\n",
    "N királynő\n",
    "\n",
    "megadom a jellemzőket\n",
    "felírom a kező és célállapotot\n",
    "\n",
    "lekódolom az operátorok halmazát"
   ]
  },
  {
   "cell_type": "code",
   "execution_count": 11,
   "metadata": {},
   "outputs": [
    {
     "name": "stdout",
     "output_type": "stream",
     "text": [
      "(-1, -1, -1, -1) None\n"
     ]
    }
   ],
   "source": [
    "from nqueens import NQueens\n",
    "from search import depth_first_graph_search\n",
    "\n",
    "nq4 = NQueens(4)\n",
    "print(nq4.initial, nq4.goal)\n",
    "depth_first_graph_search(nq4)\n",
    "\n",
    "#hugyos fos"
   ]
  },
  {
   "attachments": {},
   "cell_type": "markdown",
   "metadata": {},
   "source": [
    "### A* algoritmus"
   ]
  },
  {
   "cell_type": "code",
   "execution_count": null,
   "metadata": {},
   "outputs": [],
   "source": [
    "from node import Node\n",
    "tmp = [Node((3,2-1,-1)), Node((3,-1,-1,-1)), Node((1,2,-1,0))]"
   ]
  }
 ],
 "metadata": {
  "kernelspec": {
   "display_name": "Python 3",
   "language": "python",
   "name": "python3"
  },
  "language_info": {
   "codemirror_mode": {
    "name": "ipython",
    "version": 3
   },
   "file_extension": ".py",
   "mimetype": "text/x-python",
   "name": "python",
   "nbconvert_exporter": "python",
   "pygments_lexer": "ipython3",
   "version": "3.11.1"
  },
  "orig_nbformat": 4,
  "vscode": {
   "interpreter": {
    "hash": "5238573367df39f7286bb46f9ff5f08f63a01a80960060ce41e3c79b190280fa"
   }
  }
 },
 "nbformat": 4,
 "nbformat_minor": 2
}
