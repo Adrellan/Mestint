{
 "cells": [
  {
   "attachments": {},
   "cell_type": "markdown",
   "metadata": {},
   "source": [
    "## Egyenletes öltségű keresés\n",
    "---\n",
    "\n",
    "\n",
    "N királynő\n",
    "\n",
    "megadom a jellemzőket\n",
    "felírom a kező és célállapotot\n",
    "\n",
    "lekódolom az operátorok halmazát"
   ]
  },
  {
   "cell_type": "code",
   "execution_count": 14,
   "metadata": {},
   "outputs": [
    {
     "name": "stdout",
     "output_type": "stream",
     "text": [
      "(-1, -1, -1, -1) None\n"
     ]
    },
    {
     "ename": "NameError",
     "evalue": "name 'depth_first_search' is not defined",
     "output_type": "error",
     "traceback": [
      "\u001b[1;31m---------------------------------------------------------------------------\u001b[0m",
      "\u001b[1;31mNameError\u001b[0m                                 Traceback (most recent call last)",
      "Cell \u001b[1;32mIn[14], line 10\u001b[0m\n\u001b[0;32m      6\u001b[0m \u001b[39mprint\u001b[39m(nq4\u001b[39m.\u001b[39minitial, nq4\u001b[39m.\u001b[39mgoal)\n\u001b[0;32m      8\u001b[0m nq8 \u001b[39m=\u001b[39m NQueens(\u001b[39m8\u001b[39m)\n\u001b[1;32m---> 10\u001b[0m \u001b[39mprint\u001b[39m(depth_first_search(nq8))\n",
      "\u001b[1;31mNameError\u001b[0m: name 'depth_first_search' is not defined"
     ]
    }
   ],
   "source": [
    "from nqueens import NQueens\n",
    "from search import trial_error,depth_first_search,breath_first_search\n",
    "\n",
    "nq4 = NQueens(4)\n",
    "\n",
    "print(nq4.initial, nq4.goal)\n",
    "\n",
    "trial_error(nq4)\n"
   ]
  },
  {
   "attachments": {},
   "cell_type": "markdown",
   "metadata": {},
   "source": [
    "### A* algoritmus"
   ]
  },
  {
   "cell_type": "code",
   "execution_count": null,
   "metadata": {},
   "outputs": [
    {
     "data": {
      "text/plain": [
       "[<Node (3, 2, -1, -1)>, <Node (3, -1, -1, -1)>, <Node (1, 2, -1, 0)>]"
      ]
     },
     "execution_count": 2,
     "metadata": {},
     "output_type": "execute_result"
    }
   ],
   "source": [
    "from node import Node\n",
    "tmp = [Node((3,2,-1,-1)), Node((3,-1,-1,-1)), Node((1,2,-1,0))]\n",
    "tmp"
   ]
  },
  {
   "cell_type": "code",
   "execution_count": null,
   "metadata": {},
   "outputs": [
    {
     "data": {
      "text/plain": [
       "[<Node (3, -1, -1, -1)>, <Node (1, 2, -1, 0)>, <Node (3, 2, -1, -1)>]"
      ]
     },
     "execution_count": 3,
     "metadata": {},
     "output_type": "execute_result"
    }
   ],
   "source": [
    "# Ez nem egy optimális heurisztika!\n",
    "# Az út költsége legen 1 és válasszuk mindig a legnagyobb indexű pozíciót.\n",
    "def sort_by_heur(items):\n",
    "    \"\"\"Válasszuk midig a lehető legnagyobb indexű sort\"\"\"\n",
    "    return sorted(items, key=lambda x:sum(x.state))\n",
    "\n",
    "sort_by_heur(tmp)"
   ]
  },
  {
   "cell_type": "code",
   "execution_count": null,
   "metadata": {},
   "outputs": [
    {
     "name": "stdout",
     "output_type": "stream",
     "text": [
      "(-1, -1, -1, -1)\n"
     ]
    }
   ],
   "source": [
    "from search import astar_search\n",
    "\n",
    "astar_search(nq4, sort_by_heur)"
   ]
  },
  {
   "attachments": {},
   "cell_type": "markdown",
   "metadata": {},
   "source": [
    "### Mintazh\n",
    "---\n",
    "\n",
    "10 pont, 90 prc\n",
    "\n",
    "mindenki kap egy nodebookot\n",
    "kitöltni a feladatot, megírni a proramkódot\n",
    "lehet gépet hasznáni, lesz internet\n",
    "\n",
    "nem hanoi, nem 3 korsó, nem n királynő\n",
    "\n",
    "végig a nodebookba dolgozzunk\n",
    "\n",
    "1. kapunk egy problémát, írjuk meg a jellemzőket, a kezdő és a célállapotot (2 pont)\n",
    "\n",
    "# A jellemzők által felvhető értékek:\n",
    "H1 = {1,2,3,4,5,6}\n",
    "H2 = {1,2,3}\n",
    "megkapjuk a Problem nevezetű osztályt (dunno mi a feladat)\n",
    "\n",
    "2. kapunk gy állapottér reprezentációt (3 pont)\n",
    " \n",
    " megírjuk az actions-t, és a result-ot az állapottér repr megfelelően\n",
    "\n",
    "3. példányosítsuk (1 pont)\n",
    "4. keresési algoritmus (2 pont)\n",
    "4. próbahiba módszer (1 pont) (trial_error)\n",
    "5. futtatjuk a próbahiba módszert (1 pont)\n",
    "\n"
   ]
  }
 ],
 "metadata": {
  "kernelspec": {
   "display_name": "Python 3",
   "language": "python",
   "name": "python3"
  },
  "language_info": {
   "codemirror_mode": {
    "name": "ipython",
    "version": 3
   },
   "file_extension": ".py",
   "mimetype": "text/x-python",
   "name": "python",
   "nbconvert_exporter": "python",
   "pygments_lexer": "ipython3",
   "version": "3.9.13"
  },
  "orig_nbformat": 4,
  "vscode": {
   "interpreter": {
    "hash": "5238573367df39f7286bb46f9ff5f08f63a01a80960060ce41e3c79b190280fa"
   }
  }
 },
 "nbformat": 4,
 "nbformat_minor": 2
}
