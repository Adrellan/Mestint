{
 "cells": [
  {
   "attachments": {},
   "cell_type": "markdown",
   "metadata": {},
   "source": [
    "# 1. ZH A csoport - Összesen 10 pont - 90 perc áll rendelkezésre a megoldáshoz"
   ]
  },
  {
   "attachments": {},
   "cell_type": "markdown",
   "metadata": {},
   "source": [
    "## Azonosító adatok"
   ]
  },
  {
   "attachments": {},
   "cell_type": "markdown",
   "metadata": {},
   "source": [
    "- NÉV: Molnár Kristóf Ferenc\n",
    "- NEPTUN KÓD: OHZE4D\n",
    "- EMAIL CÍM: moleszkf@gmail.com\n"
   ]
  },
  {
   "attachments": {},
   "cell_type": "markdown",
   "metadata": {},
   "source": [
    "## Feladatok"
   ]
  },
  {
   "attachments": {},
   "cell_type": "markdown",
   "metadata": {},
   "source": [
    "### 1. Feladat (1.pont)\n",
    "\n",
    "Az alábbi ábra egy lehetséges játék eredményének állását reprezentálja egy fa struktúrában az adott játékos szempontjából. \n",
    "Sorolja fel azokat a levél elemeket amelyek Alfa-Béta vágás algoritmusát használv nem kerülnek bejárásra."
   ]
  },
  {
   "attachments": {},
   "cell_type": "markdown",
   "metadata": {},
   "source": [
    "<img src=\" data:image/png;base64,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\" />"
   ]
  },
  {
   "attachments": {},
   "cell_type": "markdown",
   "metadata": {},
   "source": [
    "### 2. Feladat -  - A megadott adathalmaz használatával építsen fel egy Naiv-Bayes osztályozott. Kövesse a feladat instrukcióit.  (5. pont)"
   ]
  },
  {
   "attachments": {},
   "cell_type": "markdown",
   "metadata": {},
   "source": [
    "#### 2. Feladat - Adatok letöltése"
   ]
  },
  {
   "cell_type": "code",
   "execution_count": 295,
   "metadata": {},
   "outputs": [],
   "source": [
    "import pandas as pd\n",
    "import tensorflow_datasets as tfds\n",
    "from tqdm import tqdm\n",
    "\n",
    "dataset = tfds.load('iris', shuffle_files=True)"
   ]
  },
  {
   "cell_type": "code",
   "execution_count": 296,
   "metadata": {},
   "outputs": [
    {
     "name": "stderr",
     "output_type": "stream",
     "text": [
      "  0%|          | 0/150 [00:00<?, ?it/s]2023-05-18 11:23:49.133915: I tensorflow/core/common_runtime/executor.cc:1197] [/device:CPU:0] (DEBUG INFO) Executor start aborting (this does not indicate an error and you can ignore this message): INVALID_ARGUMENT: You must feed a value for placeholder tensor 'Placeholder/_4' with dtype int64 and shape [1]\n",
      "\t [[{{node Placeholder/_4}}]]\n",
      "2023-05-18 11:23:49.134403: I tensorflow/core/common_runtime/executor.cc:1197] [/device:CPU:0] (DEBUG INFO) Executor start aborting (this does not indicate an error and you can ignore this message): INVALID_ARGUMENT: You must feed a value for placeholder tensor 'Placeholder/_0' with dtype string and shape [1]\n",
      "\t [[{{node Placeholder/_0}}]]\n",
      "100%|██████████| 150/150 [00:00<00:00, 3326.10it/s]\n"
     ]
    }
   ],
   "source": [
    "def convert_to_df(dataset):\n",
    "    data = []\n",
    "    for item in tqdm(dataset[\"train\"]):\n",
    "        features = item['features'].numpy()\n",
    "        data.append({\n",
    "            'sepal length': features[0], # Jellemző ami alapján prediktálni akarunk\n",
    "            'label': item['label'].numpy() # Cimkék amelyet prediktálni szeretnénk\n",
    "        })\n",
    "    return pd.DataFrame(data)\n",
    "\n",
    "df_dataset = convert_to_df(dataset)"
   ]
  },
  {
   "cell_type": "code",
   "execution_count": 297,
   "metadata": {},
   "outputs": [],
   "source": [
    "df_dataset[\"sepal length\"] = df_dataset[\"sepal length\"].apply(lambda x: int(round(x)))"
   ]
  },
  {
   "cell_type": "code",
   "execution_count": 298,
   "metadata": {},
   "outputs": [
    {
     "data": {
      "text/html": [
       "<div>\n",
       "<style scoped>\n",
       "    .dataframe tbody tr th:only-of-type {\n",
       "        vertical-align: middle;\n",
       "    }\n",
       "\n",
       "    .dataframe tbody tr th {\n",
       "        vertical-align: top;\n",
       "    }\n",
       "\n",
       "    .dataframe thead th {\n",
       "        text-align: right;\n",
       "    }\n",
       "</style>\n",
       "<table border=\"1\" class=\"dataframe\">\n",
       "  <thead>\n",
       "    <tr style=\"text-align: right;\">\n",
       "      <th></th>\n",
       "      <th>sepal length</th>\n",
       "      <th>label</th>\n",
       "    </tr>\n",
       "  </thead>\n",
       "  <tbody>\n",
       "    <tr>\n",
       "      <th>0</th>\n",
       "      <td>5</td>\n",
       "      <td>0</td>\n",
       "    </tr>\n",
       "    <tr>\n",
       "      <th>1</th>\n",
       "      <td>8</td>\n",
       "      <td>2</td>\n",
       "    </tr>\n",
       "    <tr>\n",
       "      <th>2</th>\n",
       "      <td>6</td>\n",
       "      <td>1</td>\n",
       "    </tr>\n",
       "    <tr>\n",
       "      <th>3</th>\n",
       "      <td>7</td>\n",
       "      <td>2</td>\n",
       "    </tr>\n",
       "    <tr>\n",
       "      <th>4</th>\n",
       "      <td>5</td>\n",
       "      <td>0</td>\n",
       "    </tr>\n",
       "  </tbody>\n",
       "</table>\n",
       "</div>"
      ],
      "text/plain": [
       "   sepal length  label\n",
       "0             5      0\n",
       "1             8      2\n",
       "2             6      1\n",
       "3             7      2\n",
       "4             5      0"
      ]
     },
     "execution_count": 298,
     "metadata": {},
     "output_type": "execute_result"
    }
   ],
   "source": [
    "df_dataset.head()"
   ]
  },
  {
   "cell_type": "code",
   "execution_count": 299,
   "metadata": {},
   "outputs": [
    {
     "data": {
      "text/html": [
       "<div>\n",
       "<style scoped>\n",
       "    .dataframe tbody tr th:only-of-type {\n",
       "        vertical-align: middle;\n",
       "    }\n",
       "\n",
       "    .dataframe tbody tr th {\n",
       "        vertical-align: top;\n",
       "    }\n",
       "\n",
       "    .dataframe thead th {\n",
       "        text-align: right;\n",
       "    }\n",
       "</style>\n",
       "<table border=\"1\" class=\"dataframe\">\n",
       "  <thead>\n",
       "    <tr style=\"text-align: right;\">\n",
       "      <th></th>\n",
       "      <th>sepal length</th>\n",
       "      <th>label</th>\n",
       "    </tr>\n",
       "  </thead>\n",
       "  <tbody>\n",
       "    <tr>\n",
       "      <th>count</th>\n",
       "      <td>150.000000</td>\n",
       "      <td>150.000000</td>\n",
       "    </tr>\n",
       "    <tr>\n",
       "      <th>mean</th>\n",
       "      <td>5.860000</td>\n",
       "      <td>1.000000</td>\n",
       "    </tr>\n",
       "    <tr>\n",
       "      <th>std</th>\n",
       "      <td>0.867226</td>\n",
       "      <td>0.819232</td>\n",
       "    </tr>\n",
       "    <tr>\n",
       "      <th>min</th>\n",
       "      <td>4.000000</td>\n",
       "      <td>0.000000</td>\n",
       "    </tr>\n",
       "    <tr>\n",
       "      <th>25%</th>\n",
       "      <td>5.000000</td>\n",
       "      <td>0.000000</td>\n",
       "    </tr>\n",
       "    <tr>\n",
       "      <th>50%</th>\n",
       "      <td>6.000000</td>\n",
       "      <td>1.000000</td>\n",
       "    </tr>\n",
       "    <tr>\n",
       "      <th>75%</th>\n",
       "      <td>6.000000</td>\n",
       "      <td>2.000000</td>\n",
       "    </tr>\n",
       "    <tr>\n",
       "      <th>max</th>\n",
       "      <td>8.000000</td>\n",
       "      <td>2.000000</td>\n",
       "    </tr>\n",
       "  </tbody>\n",
       "</table>\n",
       "</div>"
      ],
      "text/plain": [
       "       sepal length       label\n",
       "count    150.000000  150.000000\n",
       "mean       5.860000    1.000000\n",
       "std        0.867226    0.819232\n",
       "min        4.000000    0.000000\n",
       "25%        5.000000    0.000000\n",
       "50%        6.000000    1.000000\n",
       "75%        6.000000    2.000000\n",
       "max        8.000000    2.000000"
      ]
     },
     "execution_count": 299,
     "metadata": {},
     "output_type": "execute_result"
    }
   ],
   "source": [
    "df_dataset.describe()"
   ]
  },
  {
   "cell_type": "code",
   "execution_count": 300,
   "metadata": {},
   "outputs": [
    {
     "data": {
      "text/html": [
       "<div>\n",
       "<style scoped>\n",
       "    .dataframe tbody tr th:only-of-type {\n",
       "        vertical-align: middle;\n",
       "    }\n",
       "\n",
       "    .dataframe tbody tr th {\n",
       "        vertical-align: top;\n",
       "    }\n",
       "\n",
       "    .dataframe thead th {\n",
       "        text-align: right;\n",
       "    }\n",
       "</style>\n",
       "<table border=\"1\" class=\"dataframe\">\n",
       "  <thead>\n",
       "    <tr style=\"text-align: right;\">\n",
       "      <th></th>\n",
       "      <th>sepal length</th>\n",
       "      <th>label</th>\n",
       "      <th>class</th>\n",
       "    </tr>\n",
       "  </thead>\n",
       "  <tbody>\n",
       "    <tr>\n",
       "      <th>0</th>\n",
       "      <td>5</td>\n",
       "      <td>0</td>\n",
       "      <td>setosa</td>\n",
       "    </tr>\n",
       "    <tr>\n",
       "      <th>1</th>\n",
       "      <td>8</td>\n",
       "      <td>2</td>\n",
       "      <td>virginica</td>\n",
       "    </tr>\n",
       "    <tr>\n",
       "      <th>2</th>\n",
       "      <td>6</td>\n",
       "      <td>1</td>\n",
       "      <td>versicolour</td>\n",
       "    </tr>\n",
       "    <tr>\n",
       "      <th>3</th>\n",
       "      <td>7</td>\n",
       "      <td>2</td>\n",
       "      <td>virginica</td>\n",
       "    </tr>\n",
       "    <tr>\n",
       "      <th>4</th>\n",
       "      <td>5</td>\n",
       "      <td>0</td>\n",
       "      <td>setosa</td>\n",
       "    </tr>\n",
       "  </tbody>\n",
       "</table>\n",
       "</div>"
      ],
      "text/plain": [
       "   sepal length  label        class\n",
       "0             5      0       setosa\n",
       "1             8      2    virginica\n",
       "2             6      1  versicolour\n",
       "3             7      2    virginica\n",
       "4             5      0       setosa"
      ]
     },
     "execution_count": 300,
     "metadata": {},
     "output_type": "execute_result"
    }
   ],
   "source": [
    "def classes(value):\n",
    "    if(value == 0):\n",
    "        return \"setosa\"\n",
    "    elif(value == 1):\n",
    "        return \"versicolour\"\n",
    "    else:\n",
    "        return \"virginica\"\n",
    "\n",
    "df_dataset[\"class\"] = df_dataset[\"label\"].apply(classes)\n",
    "\n",
    "df_dataset.head()"
   ]
  },
  {
   "attachments": {},
   "cell_type": "markdown",
   "metadata": {},
   "source": [
    "#### 2. Feladat - Tanuló és teszt adatok előkészítése 80 (train) / 20 (test) arányban (1. pont)"
   ]
  },
  {
   "cell_type": "code",
   "execution_count": 301,
   "metadata": {},
   "outputs": [
    {
     "name": "stdout",
     "output_type": "stream",
     "text": [
      "(120, 3)\n",
      "(30, 3)\n"
     ]
    }
   ],
   "source": [
    "\"\"\"\n",
    "Ez volt az alap\n",
    "\n",
    "num_split = None\n",
    "df_train = None\n",
    "df_test = None\n",
    "\n",
    "\"\"\"\n",
    "\n",
    "num_split = int(len(df_dataset)*0.8)\n",
    "df_train = df_dataset[:num_split]\n",
    "df_test = df_dataset[num_split:]\n",
    "\n",
    "print(df_train.shape)\n",
    "print(df_test.shape)\n"
   ]
  },
  {
   "attachments": {},
   "cell_type": "markdown",
   "metadata": {},
   "source": [
    "#### 2. Feladat - Határozza meg a \"sepal_length\" paraméter gyakoriságát osztályonként. (1. pont)"
   ]
  },
  {
   "cell_type": "code",
   "execution_count": 302,
   "metadata": {},
   "outputs": [
    {
     "data": {
      "text/plain": [
       "{'setosa': {4: 0.1, 5: 0.8, 6: 0.1, 7: 0.0, 8: 0.0},\n",
       " 'virginica': {4: 0.0, 5: 0.02, 6: 0.54, 7: 0.32, 8: 0.12},\n",
       " 'versicolour': {4: 0.0, 5: 0.12, 6: 0.72, 7: 0.16, 8: 0.0}}"
      ]
     },
     "execution_count": 302,
     "metadata": {},
     "output_type": "execute_result"
    }
   ],
   "source": [
    "\n",
    "\n",
    "\n",
    "\"\"\"\n",
    "Ezt biztos meg lehetett volna oldani egszerűbben is de nekem igy sikerült, a lényeg az volt, hogy osztályonként meg kellett tudni h egyes ilyen sepal length milyen eséllyel fordul elő\n",
    "Ez ugy van hogy megszamoljuk az egyik osztályhoz a a konkrét sepal lengght számot, és elosztod az osztályban tarozo összessel\n",
    "\n",
    "\"\"\"\n",
    "def freq(cls):\n",
    "    return {\n",
    "         sl : [v for k,v in  zip(df_dataset[\"class\"].values, df_dataset[\"sepal length\"].values) if k == cls].count(sl) \n",
    "        / len([1 for k in df_dataset[\"class\"].values if k == cls])\n",
    "        for sl in set(df_dataset[\"sepal length\"].values)\n",
    "    }\n",
    "\n",
    "\n",
    "dict_freqs_sepal_length = { \n",
    "    \"setosa\": freq(\"setosa\"),\n",
    "    \"virginica\": freq(\"virginica\"), \n",
    "    \"versicolour\": freq(\"versicolour\"),\n",
    "    }\n",
    "\n",
    "# To Do\n",
    "\n",
    "dict_freqs_sepal_length"
   ]
  },
  {
   "attachments": {},
   "cell_type": "markdown",
   "metadata": {},
   "source": [
    "#### 2. Feladat - Határozza meg a \"sepal_length\" paraméter teljes gyakoriságát. (1. pont)"
   ]
  },
  {
   "cell_type": "code",
   "execution_count": 303,
   "metadata": {},
   "outputs": [
    {
     "data": {
      "text/plain": [
       "{4: 0.03333333333333333,\n",
       " 5: 0.31333333333333335,\n",
       " 6: 0.4533333333333333,\n",
       " 7: 0.16,\n",
       " 8: 0.04}"
      ]
     },
     "execution_count": 303,
     "metadata": {},
     "output_type": "execute_result"
    }
   ],
   "source": [
    "dict_values = {item : 0.0 for item in list(set(df_dataset['sepal length'].values))}\n",
    "\n",
    "# To Do100\n",
    "for k,v in dict_values.items():\n",
    "    dict_values [k] = len(list(filter(lambda x: x==k, df_dataset[\"sepal length\"].values))) / len(df_dataset[\"sepal length\"].values)\n",
    "\n",
    "dict_values"
   ]
  },
  {
   "attachments": {},
   "cell_type": "markdown",
   "metadata": {},
   "source": [
    "#### 2. Feladat - Számolja ki az előfordulási hányadost. Ami az osztályonkénti gyakoriság és teljes gyakoriság hányadosa. (1. pont)"
   ]
  },
  {
   "cell_type": "code",
   "execution_count": 304,
   "metadata": {},
   "outputs": [
    {
     "data": {
      "text/plain": [
       "{4: {'setosa': 3.0, 'virginica': 0.0, 'versicolour': 0.0},\n",
       " 5: {'setosa': 2.5531914893617023,\n",
       "  'virginica': 0.06382978723404255,\n",
       "  'versicolour': 0.38297872340425526},\n",
       " 6: {'setosa': 0.22058823529411767,\n",
       "  'virginica': 1.1911764705882355,\n",
       "  'versicolour': 1.5882352941176472},\n",
       " 7: {'setosa': 0.0, 'virginica': 2.0, 'versicolour': 1.0},\n",
       " 8: {'setosa': 0.0, 'virginica': 3.0, 'versicolour': 0.0}}"
      ]
     },
     "execution_count": 304,
     "metadata": {},
     "output_type": "execute_result"
    }
   ],
   "source": [
    "ratio = {item : { \"setosa\" : 0.0, \"virginica\" : 0.0, \"versicolour\" : 0.0}\n",
    "         for item in list(set(df_dataset['sepal length'].values))}\n",
    "\n",
    "# To Do\n",
    "\n",
    "for sl, value in ratio.items():\n",
    "    for cls, ss in value.items():\n",
    "        value[cls] = dict_freqs_sepal_length[cls][sl] / dict_values[sl];\n",
    "ratio"
   ]
  },
  {
   "attachments": {},
   "cell_type": "markdown",
   "metadata": {},
   "source": [
    "#### 2. Feladat - Készítsen egy predikciós táblát amely tartalmazza, hogy egy adott sepal length értékhez mi a legvalószínűbb osztály. Majd a predikcós táblát használva számolja ki a tanuló és teszt adathalmazon a pontosságot. (1. pont)"
   ]
  },
  {
   "cell_type": "code",
   "execution_count": 305,
   "metadata": {},
   "outputs": [
    {
     "data": {
      "text/plain": [
       "{4: 'setosa', 5: 'setosa', 6: 'versicolour', 7: 'virginica', 8: 'virginica'}"
      ]
     },
     "execution_count": 305,
     "metadata": {},
     "output_type": "execute_result"
    }
   ],
   "source": [
    "import numpy as np\n",
    "\n",
    "pred_table = {}\n",
    "# To Do\n",
    "\n",
    "\"\"\"\n",
    "Kigyüjtjük azt az osztályt ahol a legnagyobb a gyakorság\n",
    "\n",
    "\"\"\"\n",
    "for sl, v in ratio.items():\n",
    "    pred_table[sl] = sorted(v.items(), key=lambda x: x[1], reverse=True)[0][0]\n",
    "    \n",
    "pred_table"
   ]
  },
  {
   "cell_type": "code",
   "execution_count": 306,
   "metadata": {},
   "outputs": [],
   "source": [
    "def prediction(val):\n",
    "    return pred_table[val]"
   ]
  },
  {
   "cell_type": "code",
   "execution_count": 307,
   "metadata": {},
   "outputs": [
    {
     "data": {
      "text/plain": [
       "0.275"
      ]
     },
     "execution_count": 307,
     "metadata": {},
     "output_type": "execute_result"
    }
   ],
   "source": [
    "from sklearn.metrics import accuracy_score\n",
    "\n",
    "pred = []\n",
    "\n",
    "\"\"\"\n",
    "Elvileg jo lett mert megadta a pontot erre\n",
    "megnézzük hogy amit eszkábáltunk a train adat mennyire pontos hozzá, magyarán ami a train adatba van ahhoz milyen osztály tartozik, ha az ami az ahhoz a sepal\n",
    "lengthhez tartozik ami ugymond abba azt ozstályba a leggyakoribb akkor True amugy false\n",
    "\"\"\"\n",
    "for sl,cls in zip(df_train[\"sepal length\"], df_train[\"class\"]):\n",
    "    pred.append(True if cls == prediction(sl) else False)\n",
    "\n",
    "accuracy_score(df_train[\"label\"].values, pred)"
   ]
  },
  {
   "cell_type": "code",
   "execution_count": 308,
   "metadata": {},
   "outputs": [
    {
     "data": {
      "text/plain": [
       "0.26666666666666666"
      ]
     },
     "execution_count": 308,
     "metadata": {},
     "output_type": "execute_result"
    }
   ],
   "source": [
    "pred = []\n",
    "\n",
    "for sl,cls in zip(df_test[\"sepal length\"], df_test[\"class\"]):\n",
    "    pred.append(True if cls == prediction(sl) else False)\n",
    "\n",
    "accuracy_score(df_test[\"label\"].values, pred)"
   ]
  },
  {
   "attachments": {},
   "cell_type": "markdown",
   "metadata": {},
   "source": [
    "### 3. Feladat (4. pont)\n",
    "Használd a Q-learning algoritmust, hogy kiképez egy ágenst ami megtalálja a laborintusban a legrövidebb utat."
   ]
  },
  {
   "attachments": {},
   "cell_type": "markdown",
   "metadata": {},
   "source": [
    "#### 3. Feladat. Írd meg a Q-learning osztály action metódusát úgy a Q-learning szabályainak megfelelően. A labirintus megoldásához egy 3 dimenizós Q-táblát használt melynek dimenzióji a következő felépítésüek: (1. pont)\n",
    "- 1. Sorok száma\n",
    "- 2. Oszlopok száma\n",
    "- 3. Cselekvések száma"
   ]
  },
  {
   "cell_type": "code",
   "execution_count": 309,
   "metadata": {},
   "outputs": [],
   "source": [
    "import random\n",
    "import numpy as np\n",
    "\n",
    "class QLearningAgent:\n",
    "    \"\"\"\n",
    "    A Q-learning ügynökünket képviselő osztály\n",
    "    \"\"\"\n",
    "    def __init__(self, n_states_row,  n_states_cols, n_actions, learning_rate):\n",
    "        self.n_states_row = n_states_row\n",
    "        self.n_states_cols = n_states_cols\n",
    "        self.n_actions = n_actions\n",
    "        self.learning_rate = learning_rate\n",
    "        \n",
    "        self.q_table = np.zeros((self.n_states_row, self.n_states_cols, n_actions))\n",
    "    \n",
    "    def act(self, state_row, state_col, epsilon):\n",
    "        # Generáljon véletlen számot a [0, 1] intervallumon\n",
    "        random_int = random.uniform(0,1)\n",
    "        action = 0\n",
    "\n",
    "        \"\"\"\n",
    "\n",
    "        Ezt az if, else cuccot kellett megírni csak itten\n",
    "        \"\"\"\n",
    "        # kiválasszuk a legjobbat ha kisebb az epsilon\n",
    "        if random_int > epsilon:\n",
    "            action = np.argmax(self.q_table[state_row][state_col])\n",
    "        else:\n",
    "            action = random.randint(0, self.n_actions-1)\n",
    "        return action        \n",
    "    \n",
    "    def learn(self, state_row, state_col, action, reward, new_state_row, new_state_col, gamma):\n",
    "        old_value = self.q_table[state_row][state_col][action]\n",
    "        new_estimate = reward + gamma * max(self.q_table[new_state_row][new_state_col]) \n",
    "        \n",
    "        self.q_table[state_row][state_col][action] = old_value + self.learning_rate * (new_estimate- old_value)"
   ]
  },
  {
   "attachments": {},
   "cell_type": "markdown",
   "metadata": {},
   "source": [
    "#### 3. Feladat. Írd meg a play metódust amely elvégzi a labirntus kereső osztály tanulást a Q-Learning ágenst használva (1. pont)"
   ]
  },
  {
   "cell_type": "code",
   "execution_count": 310,
   "metadata": {},
   "outputs": [],
   "source": [
    "from tqdm import tqdm\n",
    "import matplotlib.pyplot as plt\n",
    "\n",
    "class Maze():\n",
    "    def __init__(self, epsilon, gamma, environment, aisles):\n",
    "        self.epsilon = epsilon\n",
    "        self.gamma = gamma\n",
    "        self.agent: QLearningAgent = None # type: ignore\n",
    "        self.aisles = aisles\n",
    "        self.environment_rows = environment[0]\n",
    "        self.environment_columns = environment[1]\n",
    "        self.actions = ['up', 'right', 'down', 'left']\n",
    "        self.rewards = np.full((self.environment_rows, self.environment_columns), -100.)\n",
    "        self.rewards[0, 5] = 100.\n",
    "\n",
    "        # Rewardok beállítása a folyosókhoz\n",
    "        for row in range(1, self.environment_rows-1):\n",
    "            for col in self.aisles[row]:\n",
    "                self.rewards[row, col] = -1.\n",
    "    \n",
    "    def set_agent(self, agent):\n",
    "        self.agent = agent\n",
    "\n",
    "    def get_rewards(self):\n",
    "        return self.rewards\n",
    "\n",
    "    def viz(self, tabel):\n",
    "        plt.imshow(tabel)\n",
    "        plt.colorbar()\n",
    "        plt.show()\n",
    "\n",
    "    def viz_route(self, start_row, start_col):\n",
    "        shortest_path = self.get_shortest_path(start_row, start_col)\n",
    "        table = self.get_rewards().copy()\n",
    "        for item in shortest_path:\n",
    "            table[item[0]][item[1]] = 50\n",
    "        \n",
    "        self.viz(table)\n",
    "        \n",
    "    def is_terminal_state(self, row, col):\n",
    "        \"\"\" Vég állapot vizsgálata\"\"\"\n",
    "        if self.rewards[row, col] == -1.:\n",
    "            return False\n",
    "        else:\n",
    "            return True\n",
    "            epsilon = min_epsi\n",
    "    def get_starting_location(self):\n",
    "        \"\"\"Nem terminális kezdőpont generálása\"\"\"\n",
    "        row = np.random.randint(self.environment_rows)\n",
    "        column = np.random.randint(self.environment_columns)\n",
    "\n",
    "        # Ha terminális állapotot generálunk tovább probálkozunk\n",
    "        while self.is_terminal_state(row, column):\n",
    "            row = np.random.randint(self.environment_rows)\n",
    "            column = np.random.randint(self.environment_columns)\n",
    "        \n",
    "        return row, column\n",
    "    \n",
    "    # define a function that will get the next location based on the chosen action\n",
    "    def get_next_location(self, row, col, action):\n",
    "        \"\"\"Definiál egy függvényt, amely a következő helyet vissza adja a \n",
    "        kiválasztott művelet alapján\"\"\"\n",
    "        new_row = row\n",
    "        new_column = col\n",
    "        if self.actions[action] == 'up' and row > 0:\n",
    "            new_row -= 1\n",
    "        elif self.actions[action] == 'right' and col < self.environment_columns - 1:\n",
    "            new_column += 1\n",
    "        elif self.actions[action] == 'down' and row < self.environment_rows - 1:\n",
    "            new_row += 1\n",
    "        elif self.actions[action] == 'left' and col > 0:\n",
    "            new_column -= 1\n",
    "        return new_row, new_column\n",
    "  \n",
    "    def get_shortest_path(self, start_row, start_column):\n",
    "        \"\"\"Vissza adja a legröbidebb utat\"\"\"       \n",
    "        if self.is_terminal_state(start_row, start_column):\n",
    "            return []\n",
    "        else: \n",
    "            # Ha nem terminális a kezdő pont\n",
    "            current_row, current_column = start_row, start_column\n",
    "            shortest_path = []\n",
    "            shortest_path.append([current_row, current_column])\n",
    "            # Megyünk amíg terminálisig nem jutunk.\n",
    "            while not self.is_terminal_state(current_row, current_column):\n",
    "                action = np.argmax(self.agent.q_table[current_row][current_column])                \n",
    "                current_row, current_column = self.get_next_location(current_row, current_column, action)\n",
    "                shortest_path.append([current_row, current_column])\n",
    "                \n",
    "            return shortest_path\n",
    "\n",
    "    def play(self, learning_step):\n",
    "        \"\"\"A tanulást végző metódus\"\"\"\n",
    "        print(self.rewards)\n",
    "        for episode in tqdm(range(learning_step)):\n",
    "            new_row, new_column = self.get_starting_location()\n",
    "            while not self.is_terminal_state(new_row, new_column):\n",
    "                \n",
    "\n",
    "\n",
    "                \"\"\"\n",
    "                Illetve ezeket itten alul\n",
    "                \"\"\"\n",
    "                action = self.agent.act(new_row, new_column,self.epsilon);           \n",
    "                #megnézzük a kövi lépést hogy melyik sor oszlop lesz,     \n",
    "                next_row, next_col = self.get_next_location(new_row,new_column,action)\n",
    "\n",
    "                #kiszedjük az ahhoz tartozó cellához a rewardot, \n",
    "                reward = self.rewards[next_row][next_col]\n",
    "\n",
    "                #tanuljon a hibákból\n",
    "                self.agent.learn(new_row,new_column,action,reward,next_row,next_col,self.gamma);\n",
    "                new_row, new_column = next_row, next_col\n",
    "                \n",
    "                "
   ]
  },
  {
   "attachments": {},
   "cell_type": "markdown",
   "metadata": {},
   "source": [
    "#### 3. Feladat - Maze osztály példányosítása"
   ]
  },
  {
   "cell_type": "code",
   "execution_count": 311,
   "metadata": {},
   "outputs": [],
   "source": [
    "# Folyosók\n",
    "aisles = {}\n",
    "aisles[1] = [i for i in range(1, 10)]\n",
    "aisles[2] = [1, 7, 9]\n",
    "aisles[3] = [i for i in range(1, 10)]\n",
    "aisles[3].append(9)\n",
    "aisles[4] = [1, 3, 7, 9]\n",
    "aisles[5] = [i for i in range(11)]\n",
    "aisles[6] = [5]\n",
    "aisles[7] = [i for i in range(1, 10)]\n",
    "aisles[8] = [3, 7]\n",
    "aisles[9] = [i for i in range(8)]"
   ]
  },
  {
   "cell_type": "code",
   "execution_count": 312,
   "metadata": {},
   "outputs": [],
   "source": [
    "maze = Maze(epsilon = 0.9, gamma = 0.9, environment=(11,11), aisles = aisles)"
   ]
  },
  {
   "cell_type": "code",
   "execution_count": 313,
   "metadata": {},
   "outputs": [
    {
     "data": {
      "image/png": "[encoded data removed]",
      "text/plain": [
       "<Figure size 432x288 with 2 Axes>"
      ]
     },
     "metadata": {
      "needs_background": "light"
     },
     "output_type": "display_data"
    }
   ],
   "source": [
    "maze.viz(maze.get_rewards())"
   ]
  },
  {
   "attachments": {},
   "cell_type": "markdown",
   "metadata": {},
   "source": [
    "#### 3. Feladat - Tanítsd be az Ágenst 10000 lépessel (1. pont)"
   ]
  },
  {
   "cell_type": "code",
   "execution_count": 314,
   "metadata": {},
   "outputs": [
    {
     "name": "stderr",
     "output_type": "stream",
     "text": [
      "100%|██████████| 10000/10000 [00:00<00:00, 53063.30it/s]"
     ]
    },
    {
     "name": "stdout",
     "output_type": "stream",
     "text": [
      "[[-100. -100. -100. -100. -100.  100. -100. -100. -100. -100. -100.]\n",
      " [-100.   -1.   -1.   -1.   -1.   -1.   -1.   -1.   -1.   -1. -100.]\n",
      " [-100.   -1. -100. -100. -100. -100. -100.   -1. -100.   -1. -100.]\n",
      " [-100.   -1.   -1.   -1.   -1.   -1.   -1.   -1.   -1.   -1. -100.]\n",
      " [-100.   -1. -100.   -1. -100. -100. -100.   -1. -100.   -1. -100.]\n",
      " [  -1.   -1.   -1.   -1.   -1.   -1.   -1.   -1.   -1.   -1.   -1.]\n",
      " [-100. -100. -100. -100. -100.   -1. -100. -100. -100. -100. -100.]\n",
      " [-100.   -1.   -1.   -1.   -1.   -1.   -1.   -1.   -1.   -1. -100.]\n",
      " [-100. -100. -100.   -1. -100. -100. -100.   -1. -100. -100. -100.]\n",
      " [  -1.   -1.   -1.   -1.   -1.   -1.   -1.   -1. -100. -100. -100.]\n",
      " [-100. -100. -100. -100. -100. -100. -100. -100. -100. -100. -100.]]\n"
     ]
    },
    {
     "name": "stderr",
     "output_type": "stream",
     "text": [
      "\n"
     ]
    }
   ],
   "source": [
    "\n",
    "\n",
    "\"\"\"\n",
    "Inicializálod az agénst\n",
    "\"\"\"\n",
    "n_states_row = maze.environment_rows * maze.environment_rows * 2;\n",
    "n_states_cols = maze.environment_columns * maze.environment_columns * 2;\n",
    "maze.agent = QLearningAgent(n_states_row,n_states_cols,4,1.0)\n",
    "\n",
    "maze.play(10000)"
   ]
  },
  {
   "attachments": {},
   "cell_type": "markdown",
   "metadata": {},
   "source": [
    "#### 3. Feladat - Vizualizáld a megadott kezdőponttal a tanulás eredményét (0.5. pont)"
   ]
  },
  {
   "cell_type": "code",
   "execution_count": 315,
   "metadata": {},
   "outputs": [
    {
     "data": {
      "image/png": "[encoded data removed]",
      "text/plain": [
       "<Figure size 432x288 with 2 Axes>"
      ]
     },
     "metadata": {
      "needs_background": "light"
     },
     "output_type": "display_data"
    }
   ],
   "source": [
    "maze.viz_route(6, 5)"
   ]
  }
 ],
 "metadata": {
  "kernelspec": {
   "display_name": "KDP",
   "language": "python",
   "name": "python3"
  },
  "language_info": {
   "codemirror_mode": {
    "name": "ipython",
    "version": 3
   },
   "file_extension": ".py",
   "mimetype": "text/x-python",
   "name": "python",
   "nbconvert_exporter": "python",
   "pygments_lexer": "ipython3",
   "version": "3.10.4"
  },
  "orig_nbformat": 4
 },
 "nbformat": 4,
 "nbformat_minor": 2
}
