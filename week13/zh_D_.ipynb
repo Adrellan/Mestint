{
  "cells": [
    {
      "attachments": {},
      "cell_type": "markdown",
      "metadata": {
        "id": "sPoYJW8-E4Mq"
      },
      "source": [
        "# 1. ZH D csoport - Összesen 10 pont - 90 perc áll rendelkezésre a megoldáshoz"
      ]
    },
    {
      "attachments": {},
      "cell_type": "markdown",
      "metadata": {
        "id": "Ue-ruei4E4M6"
      },
      "source": [
        "## Azonosító adatok"
      ]
    },
    {
      "attachments": {},
      "cell_type": "markdown",
      "metadata": {
        "id": "VIVNIR7HE4M7"
      },
      "source": [
        "- NÉV: Tóth Márton Marcell\n",
        "- NEPTUN KÓD: \n",
        "- EMAIL: hun.nort@gmail.com"
      ]
    },
    {
      "attachments": {},
      "cell_type": "markdown",
      "metadata": {
        "id": "7xEz8miZE4M8"
      },
      "source": [
        "## Feladatok"
      ]
    },
    {
      "attachments": {},
      "cell_type": "markdown",
      "metadata": {
        "id": "NSt0MO6aE4M8"
      },
      "source": [
        "### 1. Feladat (1. pont)\n",
        "\n",
        "Az alábbi ábra egy lehetséges játék eredményének állását reprezentálja egy fa struktúrában az adott játékos szempontjából. \n",
        "Sorolja fel azokat a levél elemeket amelyek Alfa-Béta vágás algoritmusát használv nem kerülnek bejárásra."
      ]
    },
    {
      "attachments": {},
      "cell_type": "markdown",
      "metadata": {
        "id": "d_l2tuByE4M9"
      },
      "source": [
        "<img src=\" data:image/png;base64,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\" />"
      ]
    },
    {
      "attachments": {},
      "cell_type": "markdown",
      "metadata": {
        "id": "gWWH8PenJVxI"
      },
      "source": [
        "Nem kerül bejárásra a : -31,22 levél elem"
      ]
    },
    {
      "attachments": {},
      "cell_type": "markdown",
      "metadata": {
        "id": "kvAgPy8KE4NC"
      },
      "source": [
        "### 2. Feladat -  - A megadott adathalmaz használatával építsen fel egy Naiv-Bayes osztályozott. Kövesse a feladat instrukcióit.  (5. pont)"
      ]
    },
    {
      "attachments": {},
      "cell_type": "markdown",
      "metadata": {
        "id": "7FspfTLwE4ND"
      },
      "source": [
        "#### 2. Feladat - Adatok letöltése"
      ]
    },
    {
      "cell_type": "code",
      "execution_count": 20,
      "metadata": {
        "id": "fynkma5fE4NE"
      },
      "outputs": [],
      "source": [
        "import pandas as pd\n",
        "import tensorflow_datasets as tfds\n",
        "from tqdm import tqdm\n",
        "\n",
        "dataset = tfds.load('iris', shuffle_files=True)"
      ]
    },
    {
      "cell_type": "code",
      "execution_count": 21,
      "metadata": {
        "colab": {
          "base_uri": "https://localhost:8080/"
        },
        "id": "4YQFlJmwE4NF",
        "outputId": "279e9fcf-7d09-4978-9bc3-5020023cdd01"
      },
      "outputs": [
        {
          "name": "stderr",
          "output_type": "stream",
          "text": [
            "100%|██████████| 150/150 [00:00<00:00, 1678.75it/s]\n"
          ]
        }
      ],
      "source": [
        "def convert_to_df(dataset):\n",
        "    data = []\n",
        "    for item in tqdm(dataset[\"train\"]):\n",
        "        features = item['features'].numpy()\n",
        "        data.append({\n",
        "            'sepal length': features[2], # Jellemző ami alapján prediktálni akarunk\n",
        "            'label': item['label'].numpy() # Cimkék amelyet prediktálni szeretnénk\n",
        "        })\n",
        "    return pd.DataFrame(data)\n",
        "\n",
        "df_dataset = convert_to_df(dataset)"
      ]
    },
    {
      "cell_type": "code",
      "execution_count": 22,
      "metadata": {
        "id": "4t81HkkZE4NG"
      },
      "outputs": [],
      "source": [
        "df_dataset[\"sepal length\"] = df_dataset[\"sepal length\"].apply(lambda x: int(round(x)))"
      ]
    },
    {
      "cell_type": "code",
      "execution_count": 23,
      "metadata": {
        "colab": {
          "base_uri": "https://localhost:8080/",
          "height": 206
        },
        "id": "Y71dosKKE4NG",
        "outputId": "69306738-3b5f-4514-f2d4-793ae9442547"
      },
      "outputs": [
        {
          "data": {
            "text/html": [
              "\n",
              "  <div id=\"df-3350eb4b-6a68-4b23-9a28-d503238202fd\">\n",
              "    <div class=\"colab-df-container\">\n",
              "      <div>\n",
              "<style scoped>\n",
              "    .dataframe tbody tr th:only-of-type {\n",
              "        vertical-align: middle;\n",
              "    }\n",
              "\n",
              "    .dataframe tbody tr th {\n",
              "        vertical-align: top;\n",
              "    }\n",
              "\n",
              "    .dataframe thead th {\n",
              "        text-align: right;\n",
              "    }\n",
              "</style>\n",
              "<table border=\"1\" class=\"dataframe\">\n",
              "  <thead>\n",
              "    <tr style=\"text-align: right;\">\n",
              "      <th></th>\n",
              "      <th>sepal length</th>\n",
              "      <th>label</th>\n",
              "    </tr>\n",
              "  </thead>\n",
              "  <tbody>\n",
              "    <tr>\n",
              "      <th>0</th>\n",
              "      <td>2</td>\n",
              "      <td>0</td>\n",
              "    </tr>\n",
              "    <tr>\n",
              "      <th>1</th>\n",
              "      <td>6</td>\n",
              "      <td>2</td>\n",
              "    </tr>\n",
              "    <tr>\n",
              "      <th>2</th>\n",
              "      <td>4</td>\n",
              "      <td>1</td>\n",
              "    </tr>\n",
              "    <tr>\n",
              "      <th>3</th>\n",
              "      <td>6</td>\n",
              "      <td>2</td>\n",
              "    </tr>\n",
              "    <tr>\n",
              "      <th>4</th>\n",
              "      <td>1</td>\n",
              "      <td>0</td>\n",
              "    </tr>\n",
              "  </tbody>\n",
              "</table>\n",
              "</div>\n",
              "      <button class=\"colab-df-convert\" onclick=\"convertToInteractive('df-3350eb4b-6a68-4b23-9a28-d503238202fd')\"\n",
              "              title=\"Convert this dataframe to an interactive table.\"\n",
              "              style=\"display:none;\">\n",
              "        \n",
              "  <svg xmlns=\"http://www.w3.org/2000/svg\" height=\"24px\"viewBox=\"0 0 24 24\"\n",
              "       width=\"24px\">\n",
              "    <path d=\"M0 0h24v24H0V0z\" fill=\"none\"/>\n",
              "    <path d=\"M18.56 5.44l.94 2.06.94-2.06 2.06-.94-2.06-.94-.94-2.06-.94 2.06-2.06.94zm-11 1L8.5 8.5l.94-2.06 2.06-.94-2.06-.94L8.5 2.5l-.94 2.06-2.06.94zm10 10l.94 2.06.94-2.06 2.06-.94-2.06-.94-.94-2.06-.94 2.06-2.06.94z\"/><path d=\"M17.41 7.96l-1.37-1.37c-.4-.4-.92-.59-1.43-.59-.52 0-1.04.2-1.43.59L10.3 9.45l-7.72 7.72c-.78.78-.78 2.05 0 2.83L4 21.41c.39.39.9.59 1.41.59.51 0 1.02-.2 1.41-.59l7.78-7.78 2.81-2.81c.8-.78.8-2.07 0-2.86zM5.41 20L4 18.59l7.72-7.72 1.47 1.35L5.41 20z\"/>\n",
              "  </svg>\n",
              "      </button>\n",
              "      \n",
              "  <style>\n",
              "    .colab-df-container {\n",
              "      display:flex;\n",
              "      flex-wrap:wrap;\n",
              "      gap: 12px;\n",
              "    }\n",
              "\n",
              "    .colab-df-convert {\n",
              "      background-color: #E8F0FE;\n",
              "      border: none;\n",
              "      border-radius: 50%;\n",
              "      cursor: pointer;\n",
              "      display: none;\n",
              "      fill: #1967D2;\n",
              "      height: 32px;\n",
              "      padding: 0 0 0 0;\n",
              "      width: 32px;\n",
              "    }\n",
              "\n",
              "    .colab-df-convert:hover {\n",
              "      background-color: #E2EBFA;\n",
              "      box-shadow: 0px 1px 2px rgba(60, 64, 67, 0.3), 0px 1px 3px 1px rgba(60, 64, 67, 0.15);\n",
              "      fill: #174EA6;\n",
              "    }\n",
              "\n",
              "    [theme=dark] .colab-df-convert {\n",
              "      background-color: #3B4455;\n",
              "      fill: #D2E3FC;\n",
              "    }\n",
              "\n",
              "    [theme=dark] .colab-df-convert:hover {\n",
              "      background-color: #434B5C;\n",
              "      box-shadow: 0px 1px 3px 1px rgba(0, 0, 0, 0.15);\n",
              "      filter: drop-shadow(0px 1px 2px rgba(0, 0, 0, 0.3));\n",
              "      fill: #FFFFFF;\n",
              "    }\n",
              "  </style>\n",
              "\n",
              "      <script>\n",
              "        const buttonEl =\n",
              "          document.querySelector('#df-3350eb4b-6a68-4b23-9a28-d503238202fd button.colab-df-convert');\n",
              "        buttonEl.style.display =\n",
              "          google.colab.kernel.accessAllowed ? 'block' : 'none';\n",
              "\n",
              "        async function convertToInteractive(key) {\n",
              "          const element = document.querySelector('#df-3350eb4b-6a68-4b23-9a28-d503238202fd');\n",
              "          const dataTable =\n",
              "            await google.colab.kernel.invokeFunction('convertToInteractive',\n",
              "                                                     [key], {});\n",
              "          if (!dataTable) return;\n",
              "\n",
              "          const docLinkHtml = 'Like what you see? Visit the ' +\n",
              "            '<a target=\"_blank\" href=https://colab.research.google.com/notebooks/data_table.ipynb>data table notebook</a>'\n",
              "            + ' to learn more about interactive tables.';\n",
              "          element.innerHTML = '';\n",
              "          dataTable['output_type'] = 'display_data';\n",
              "          await google.colab.output.renderOutput(dataTable, element);\n",
              "          const docLink = document.createElement('div');\n",
              "          docLink.innerHTML = docLinkHtml;\n",
              "          element.appendChild(docLink);\n",
              "        }\n",
              "      </script>\n",
              "    </div>\n",
              "  </div>\n",
              "  "
            ],
            "text/plain": [
              "   sepal length  label\n",
              "0             2      0\n",
              "1             6      2\n",
              "2             4      1\n",
              "3             6      2\n",
              "4             1      0"
            ]
          },
          "execution_count": 23,
          "metadata": {},
          "output_type": "execute_result"
        }
      ],
      "source": [
        "df_dataset.head()"
      ]
    },
    {
      "cell_type": "code",
      "execution_count": 24,
      "metadata": {
        "colab": {
          "base_uri": "https://localhost:8080/",
          "height": 300
        },
        "id": "DYkVRTFSE4NG",
        "outputId": "c1fdccc7-8249-4fb1-f13f-d4e6d54e1b01"
      },
      "outputs": [
        {
          "data": {
            "text/html": [
              "\n",
              "  <div id=\"df-c2ebdc63-9e94-4ed2-b6c7-3c5df7edc560\">\n",
              "    <div class=\"colab-df-container\">\n",
              "      <div>\n",
              "<style scoped>\n",
              "    .dataframe tbody tr th:only-of-type {\n",
              "        vertical-align: middle;\n",
              "    }\n",
              "\n",
              "    .dataframe tbody tr th {\n",
              "        vertical-align: top;\n",
              "    }\n",
              "\n",
              "    .dataframe thead th {\n",
              "        text-align: right;\n",
              "    }\n",
              "</style>\n",
              "<table border=\"1\" class=\"dataframe\">\n",
              "  <thead>\n",
              "    <tr style=\"text-align: right;\">\n",
              "      <th></th>\n",
              "      <th>sepal length</th>\n",
              "      <th>label</th>\n",
              "    </tr>\n",
              "  </thead>\n",
              "  <tbody>\n",
              "    <tr>\n",
              "      <th>count</th>\n",
              "      <td>150.000000</td>\n",
              "      <td>150.000000</td>\n",
              "    </tr>\n",
              "    <tr>\n",
              "      <th>mean</th>\n",
              "      <td>3.793333</td>\n",
              "      <td>1.000000</td>\n",
              "    </tr>\n",
              "    <tr>\n",
              "      <th>std</th>\n",
              "      <td>1.792215</td>\n",
              "      <td>0.819232</td>\n",
              "    </tr>\n",
              "    <tr>\n",
              "      <th>min</th>\n",
              "      <td>1.000000</td>\n",
              "      <td>0.000000</td>\n",
              "    </tr>\n",
              "    <tr>\n",
              "      <th>25%</th>\n",
              "      <td>2.000000</td>\n",
              "      <td>0.000000</td>\n",
              "    </tr>\n",
              "    <tr>\n",
              "      <th>50%</th>\n",
              "      <td>4.000000</td>\n",
              "      <td>1.000000</td>\n",
              "    </tr>\n",
              "    <tr>\n",
              "      <th>75%</th>\n",
              "      <td>5.000000</td>\n",
              "      <td>2.000000</td>\n",
              "    </tr>\n",
              "    <tr>\n",
              "      <th>max</th>\n",
              "      <td>7.000000</td>\n",
              "      <td>2.000000</td>\n",
              "    </tr>\n",
              "  </tbody>\n",
              "</table>\n",
              "</div>\n",
              "      <button class=\"colab-df-convert\" onclick=\"convertToInteractive('df-c2ebdc63-9e94-4ed2-b6c7-3c5df7edc560')\"\n",
              "              title=\"Convert this dataframe to an interactive table.\"\n",
              "              style=\"display:none;\">\n",
              "        \n",
              "  <svg xmlns=\"http://www.w3.org/2000/svg\" height=\"24px\"viewBox=\"0 0 24 24\"\n",
              "       width=\"24px\">\n",
              "    <path d=\"M0 0h24v24H0V0z\" fill=\"none\"/>\n",
              "    <path d=\"M18.56 5.44l.94 2.06.94-2.06 2.06-.94-2.06-.94-.94-2.06-.94 2.06-2.06.94zm-11 1L8.5 8.5l.94-2.06 2.06-.94-2.06-.94L8.5 2.5l-.94 2.06-2.06.94zm10 10l.94 2.06.94-2.06 2.06-.94-2.06-.94-.94-2.06-.94 2.06-2.06.94z\"/><path d=\"M17.41 7.96l-1.37-1.37c-.4-.4-.92-.59-1.43-.59-.52 0-1.04.2-1.43.59L10.3 9.45l-7.72 7.72c-.78.78-.78 2.05 0 2.83L4 21.41c.39.39.9.59 1.41.59.51 0 1.02-.2 1.41-.59l7.78-7.78 2.81-2.81c.8-.78.8-2.07 0-2.86zM5.41 20L4 18.59l7.72-7.72 1.47 1.35L5.41 20z\"/>\n",
              "  </svg>\n",
              "      </button>\n",
              "      \n",
              "  <style>\n",
              "    .colab-df-container {\n",
              "      display:flex;\n",
              "      flex-wrap:wrap;\n",
              "      gap: 12px;\n",
              "    }\n",
              "\n",
              "    .colab-df-convert {\n",
              "      background-color: #E8F0FE;\n",
              "      border: none;\n",
              "      border-radius: 50%;\n",
              "      cursor: pointer;\n",
              "      display: none;\n",
              "      fill: #1967D2;\n",
              "      height: 32px;\n",
              "      padding: 0 0 0 0;\n",
              "      width: 32px;\n",
              "    }\n",
              "\n",
              "    .colab-df-convert:hover {\n",
              "      background-color: #E2EBFA;\n",
              "      box-shadow: 0px 1px 2px rgba(60, 64, 67, 0.3), 0px 1px 3px 1px rgba(60, 64, 67, 0.15);\n",
              "      fill: #174EA6;\n",
              "    }\n",
              "\n",
              "    [theme=dark] .colab-df-convert {\n",
              "      background-color: #3B4455;\n",
              "      fill: #D2E3FC;\n",
              "    }\n",
              "\n",
              "    [theme=dark] .colab-df-convert:hover {\n",
              "      background-color: #434B5C;\n",
              "      box-shadow: 0px 1px 3px 1px rgba(0, 0, 0, 0.15);\n",
              "      filter: drop-shadow(0px 1px 2px rgba(0, 0, 0, 0.3));\n",
              "      fill: #FFFFFF;\n",
              "    }\n",
              "  </style>\n",
              "\n",
              "      <script>\n",
              "        const buttonEl =\n",
              "          document.querySelector('#df-c2ebdc63-9e94-4ed2-b6c7-3c5df7edc560 button.colab-df-convert');\n",
              "        buttonEl.style.display =\n",
              "          google.colab.kernel.accessAllowed ? 'block' : 'none';\n",
              "\n",
              "        async function convertToInteractive(key) {\n",
              "          const element = document.querySelector('#df-c2ebdc63-9e94-4ed2-b6c7-3c5df7edc560');\n",
              "          const dataTable =\n",
              "            await google.colab.kernel.invokeFunction('convertToInteractive',\n",
              "                                                     [key], {});\n",
              "          if (!dataTable) return;\n",
              "\n",
              "          const docLinkHtml = 'Like what you see? Visit the ' +\n",
              "            '<a target=\"_blank\" href=https://colab.research.google.com/notebooks/data_table.ipynb>data table notebook</a>'\n",
              "            + ' to learn more about interactive tables.';\n",
              "          element.innerHTML = '';\n",
              "          dataTable['output_type'] = 'display_data';\n",
              "          await google.colab.output.renderOutput(dataTable, element);\n",
              "          const docLink = document.createElement('div');\n",
              "          docLink.innerHTML = docLinkHtml;\n",
              "          element.appendChild(docLink);\n",
              "        }\n",
              "      </script>\n",
              "    </div>\n",
              "  </div>\n",
              "  "
            ],
            "text/plain": [
              "       sepal length       label\n",
              "count    150.000000  150.000000\n",
              "mean       3.793333    1.000000\n",
              "std        1.792215    0.819232\n",
              "min        1.000000    0.000000\n",
              "25%        2.000000    0.000000\n",
              "50%        4.000000    1.000000\n",
              "75%        5.000000    2.000000\n",
              "max        7.000000    2.000000"
            ]
          },
          "execution_count": 24,
          "metadata": {},
          "output_type": "execute_result"
        }
      ],
      "source": [
        "df_dataset.describe()"
      ]
    },
    {
      "cell_type": "code",
      "execution_count": 25,
      "metadata": {
        "colab": {
          "base_uri": "https://localhost:8080/",
          "height": 206
        },
        "id": "mkrdDJZXE4NH",
        "outputId": "7816296b-67ee-4d73-9f68-0c83d40a2f25"
      },
      "outputs": [
        {
          "data": {
            "text/html": [
              "\n",
              "  <div id=\"df-3caf78f5-5e37-4d18-947c-bc9231759739\">\n",
              "    <div class=\"colab-df-container\">\n",
              "      <div>\n",
              "<style scoped>\n",
              "    .dataframe tbody tr th:only-of-type {\n",
              "        vertical-align: middle;\n",
              "    }\n",
              "\n",
              "    .dataframe tbody tr th {\n",
              "        vertical-align: top;\n",
              "    }\n",
              "\n",
              "    .dataframe thead th {\n",
              "        text-align: right;\n",
              "    }\n",
              "</style>\n",
              "<table border=\"1\" class=\"dataframe\">\n",
              "  <thead>\n",
              "    <tr style=\"text-align: right;\">\n",
              "      <th></th>\n",
              "      <th>sepal length</th>\n",
              "      <th>label</th>\n",
              "      <th>class</th>\n",
              "    </tr>\n",
              "  </thead>\n",
              "  <tbody>\n",
              "    <tr>\n",
              "      <th>0</th>\n",
              "      <td>2</td>\n",
              "      <td>0</td>\n",
              "      <td>setosa</td>\n",
              "    </tr>\n",
              "    <tr>\n",
              "      <th>1</th>\n",
              "      <td>6</td>\n",
              "      <td>2</td>\n",
              "      <td>virginica</td>\n",
              "    </tr>\n",
              "    <tr>\n",
              "      <th>2</th>\n",
              "      <td>4</td>\n",
              "      <td>1</td>\n",
              "      <td>versicolour</td>\n",
              "    </tr>\n",
              "    <tr>\n",
              "      <th>3</th>\n",
              "      <td>6</td>\n",
              "      <td>2</td>\n",
              "      <td>virginica</td>\n",
              "    </tr>\n",
              "    <tr>\n",
              "      <th>4</th>\n",
              "      <td>1</td>\n",
              "      <td>0</td>\n",
              "      <td>setosa</td>\n",
              "    </tr>\n",
              "  </tbody>\n",
              "</table>\n",
              "</div>\n",
              "      <button class=\"colab-df-convert\" onclick=\"convertToInteractive('df-3caf78f5-5e37-4d18-947c-bc9231759739')\"\n",
              "              title=\"Convert this dataframe to an interactive table.\"\n",
              "              style=\"display:none;\">\n",
              "        \n",
              "  <svg xmlns=\"http://www.w3.org/2000/svg\" height=\"24px\"viewBox=\"0 0 24 24\"\n",
              "       width=\"24px\">\n",
              "    <path d=\"M0 0h24v24H0V0z\" fill=\"none\"/>\n",
              "    <path d=\"M18.56 5.44l.94 2.06.94-2.06 2.06-.94-2.06-.94-.94-2.06-.94 2.06-2.06.94zm-11 1L8.5 8.5l.94-2.06 2.06-.94-2.06-.94L8.5 2.5l-.94 2.06-2.06.94zm10 10l.94 2.06.94-2.06 2.06-.94-2.06-.94-.94-2.06-.94 2.06-2.06.94z\"/><path d=\"M17.41 7.96l-1.37-1.37c-.4-.4-.92-.59-1.43-.59-.52 0-1.04.2-1.43.59L10.3 9.45l-7.72 7.72c-.78.78-.78 2.05 0 2.83L4 21.41c.39.39.9.59 1.41.59.51 0 1.02-.2 1.41-.59l7.78-7.78 2.81-2.81c.8-.78.8-2.07 0-2.86zM5.41 20L4 18.59l7.72-7.72 1.47 1.35L5.41 20z\"/>\n",
              "  </svg>\n",
              "      </button>\n",
              "      \n",
              "  <style>\n",
              "    .colab-df-container {\n",
              "      display:flex;\n",
              "      flex-wrap:wrap;\n",
              "      gap: 12px;\n",
              "    }\n",
              "\n",
              "    .colab-df-convert {\n",
              "      background-color: #E8F0FE;\n",
              "      border: none;\n",
              "      border-radius: 50%;\n",
              "      cursor: pointer;\n",
              "      display: none;\n",
              "      fill: #1967D2;\n",
              "      height: 32px;\n",
              "      padding: 0 0 0 0;\n",
              "      width: 32px;\n",
              "    }\n",
              "\n",
              "    .colab-df-convert:hover {\n",
              "      background-color: #E2EBFA;\n",
              "      box-shadow: 0px 1px 2px rgba(60, 64, 67, 0.3), 0px 1px 3px 1px rgba(60, 64, 67, 0.15);\n",
              "      fill: #174EA6;\n",
              "    }\n",
              "\n",
              "    [theme=dark] .colab-df-convert {\n",
              "      background-color: #3B4455;\n",
              "      fill: #D2E3FC;\n",
              "    }\n",
              "\n",
              "    [theme=dark] .colab-df-convert:hover {\n",
              "      background-color: #434B5C;\n",
              "      box-shadow: 0px 1px 3px 1px rgba(0, 0, 0, 0.15);\n",
              "      filter: drop-shadow(0px 1px 2px rgba(0, 0, 0, 0.3));\n",
              "      fill: #FFFFFF;\n",
              "    }\n",
              "  </style>\n",
              "\n",
              "      <script>\n",
              "        const buttonEl =\n",
              "          document.querySelector('#df-3caf78f5-5e37-4d18-947c-bc9231759739 button.colab-df-convert');\n",
              "        buttonEl.style.display =\n",
              "          google.colab.kernel.accessAllowed ? 'block' : 'none';\n",
              "\n",
              "        async function convertToInteractive(key) {\n",
              "          const element = document.querySelector('#df-3caf78f5-5e37-4d18-947c-bc9231759739');\n",
              "          const dataTable =\n",
              "            await google.colab.kernel.invokeFunction('convertToInteractive',\n",
              "                                                     [key], {});\n",
              "          if (!dataTable) return;\n",
              "\n",
              "          const docLinkHtml = 'Like what you see? Visit the ' +\n",
              "            '<a target=\"_blank\" href=https://colab.research.google.com/notebooks/data_table.ipynb>data table notebook</a>'\n",
              "            + ' to learn more about interactive tables.';\n",
              "          element.innerHTML = '';\n",
              "          dataTable['output_type'] = 'display_data';\n",
              "          await google.colab.output.renderOutput(dataTable, element);\n",
              "          const docLink = document.createElement('div');\n",
              "          docLink.innerHTML = docLinkHtml;\n",
              "          element.appendChild(docLink);\n",
              "        }\n",
              "      </script>\n",
              "    </div>\n",
              "  </div>\n",
              "  "
            ],
            "text/plain": [
              "   sepal length  label        class\n",
              "0             2      0       setosa\n",
              "1             6      2    virginica\n",
              "2             4      1  versicolour\n",
              "3             6      2    virginica\n",
              "4             1      0       setosa"
            ]
          },
          "execution_count": 25,
          "metadata": {},
          "output_type": "execute_result"
        }
      ],
      "source": [
        "def classes(value):\n",
        "    if(value == 0):\n",
        "        return \"setosa\"\n",
        "    elif(value == 1):\n",
        "        return \"versicolour\"\n",
        "    else:\n",
        "        return \"virginica\"\n",
        "\n",
        "df_dataset[\"class\"] = df_dataset[\"label\"].apply(classes)\n",
        "\n",
        "df_dataset.head()"
      ]
    },
    {
      "attachments": {},
      "cell_type": "markdown",
      "metadata": {
        "id": "TzI-60shE4NH"
      },
      "source": [
        "#### 2. Feladat - Tanuló és teszt adatok előkészítése 80 (train) / 20 (test) arányban (1. pont)"
      ]
    },
    {
      "cell_type": "code",
      "execution_count": 91,
      "metadata": {
        "colab": {
          "base_uri": "https://localhost:8080/"
        },
        "id": "o8s0FWLeE4NH",
        "outputId": "5667b1fe-0e1a-4ff3-a798-b6f5968c0762"
      },
      "outputs": [
        {
          "name": "stdout",
          "output_type": "stream",
          "text": [
            "120\n",
            "(120, 3)\n",
            "(30, 3)\n"
          ]
        }
      ],
      "source": [
        "num_split = int(len(df_dataset)*0.8)\n",
        "df_train = df_dataset[:num_split]\n",
        "df_test = df_dataset[num_split:]\n",
        "\n",
        "print(num_split)\n",
        "print(df_train.shape)\n",
        "print(df_test.shape)"
      ]
    },
    {
      "attachments": {},
      "cell_type": "markdown",
      "metadata": {
        "id": "qX9hEtGEE4NI"
      },
      "source": [
        "#### 2. Feladat - Határozza meg a \"sepal_length\" paraméter gyakoriságát osztályonként. (1. pont)"
      ]
    },
    {
      "cell_type": "code",
      "execution_count": 100,
      "metadata": {
        "colab": {
          "base_uri": "https://localhost:8080/",
          "height": 502
        },
        "id": "sf5glefKE4NI",
        "outputId": "0688403c-7b4c-4fb9-e1ad-5d7aea876d88"
      },
      "outputs": [
        {
          "ename": "KeyError",
          "evalue": "ignored",
          "output_type": "error",
          "traceback": [
            "\u001b[0;31m---------------------------------------------------------------------------\u001b[0m",
            "\u001b[0;31mKeyError\u001b[0m                                  Traceback (most recent call last)",
            "\u001b[0;32m/usr/local/lib/python3.10/dist-packages/pandas/core/indexes/base.py\u001b[0m in \u001b[0;36mget_loc\u001b[0;34m(self, key, method, tolerance)\u001b[0m\n\u001b[1;32m   3801\u001b[0m             \u001b[0;32mtry\u001b[0m\u001b[0;34m:\u001b[0m\u001b[0;34m\u001b[0m\u001b[0;34m\u001b[0m\u001b[0m\n\u001b[0;32m-> 3802\u001b[0;31m                 \u001b[0;32mreturn\u001b[0m \u001b[0mself\u001b[0m\u001b[0;34m.\u001b[0m\u001b[0m_engine\u001b[0m\u001b[0;34m.\u001b[0m\u001b[0mget_loc\u001b[0m\u001b[0;34m(\u001b[0m\u001b[0mcasted_key\u001b[0m\u001b[0;34m)\u001b[0m\u001b[0;34m\u001b[0m\u001b[0;34m\u001b[0m\u001b[0m\n\u001b[0m\u001b[1;32m   3803\u001b[0m             \u001b[0;32mexcept\u001b[0m \u001b[0mKeyError\u001b[0m \u001b[0;32mas\u001b[0m \u001b[0merr\u001b[0m\u001b[0;34m:\u001b[0m\u001b[0;34m\u001b[0m\u001b[0;34m\u001b[0m\u001b[0m\n",
            "\u001b[0;32m/usr/local/lib/python3.10/dist-packages/pandas/_libs/index.pyx\u001b[0m in \u001b[0;36mpandas._libs.index.IndexEngine.get_loc\u001b[0;34m()\u001b[0m\n",
            "\u001b[0;32m/usr/local/lib/python3.10/dist-packages/pandas/_libs/index.pyx\u001b[0m in \u001b[0;36mpandas._libs.index.IndexEngine.get_loc\u001b[0;34m()\u001b[0m\n",
            "\u001b[0;32mpandas/_libs/hashtable_class_helper.pxi\u001b[0m in \u001b[0;36mpandas._libs.hashtable.PyObjectHashTable.get_item\u001b[0;34m()\u001b[0m\n",
            "\u001b[0;32mpandas/_libs/hashtable_class_helper.pxi\u001b[0m in \u001b[0;36mpandas._libs.hashtable.PyObjectHashTable.get_item\u001b[0;34m()\u001b[0m\n",
            "\u001b[0;31mKeyError\u001b[0m: 'word'",
            "\nThe above exception was the direct cause of the following exception:\n",
            "\u001b[0;31mKeyError\u001b[0m                                  Traceback (most recent call last)",
            "\u001b[0;32m<ipython-input-100-e2a65c5c8380>\u001b[0m in \u001b[0;36m<cell line: 3>\u001b[0;34m()\u001b[0m\n\u001b[1;32m      1\u001b[0m \u001b[0mdict_freqs\u001b[0m \u001b[0;34m=\u001b[0m \u001b[0;34m{\u001b[0m\u001b[0;34m\"positive\"\u001b[0m\u001b[0;34m:\u001b[0m \u001b[0;34m{\u001b[0m\u001b[0;34m}\u001b[0m\u001b[0;34m,\u001b[0m \u001b[0;34m\"negative\"\u001b[0m\u001b[0;34m:\u001b[0m \u001b[0;34m{\u001b[0m\u001b[0;34m}\u001b[0m\u001b[0;34m}\u001b[0m\u001b[0;34m\u001b[0m\u001b[0;34m\u001b[0m\u001b[0m\n\u001b[1;32m      2\u001b[0m \u001b[0mVOCAB_IDX\u001b[0m \u001b[0;34m=\u001b[0m \u001b[0;34m{\u001b[0m\u001b[0;34m}\u001b[0m\u001b[0;34m\u001b[0m\u001b[0;34m\u001b[0m\u001b[0m\n\u001b[0;32m----> 3\u001b[0;31m \u001b[0;32mfor\u001b[0m \u001b[0mi\u001b[0m \u001b[0;32min\u001b[0m \u001b[0mrange\u001b[0m\u001b[0;34m(\u001b[0m\u001b[0;36m0\u001b[0m\u001b[0;34m,\u001b[0m\u001b[0mlen\u001b[0m\u001b[0;34m(\u001b[0m\u001b[0mdf_dataset\u001b[0m\u001b[0;34m[\u001b[0m\u001b[0;34m\"word\"\u001b[0m\u001b[0;34m]\u001b[0m\u001b[0;34m.\u001b[0m\u001b[0mvalues\u001b[0m\u001b[0;34m)\u001b[0m\u001b[0;34m)\u001b[0m\u001b[0;34m:\u001b[0m\u001b[0;34m\u001b[0m\u001b[0;34m\u001b[0m\u001b[0m\n\u001b[0m\u001b[1;32m      4\u001b[0m     \u001b[0mVOCAB_IDX\u001b[0m\u001b[0;34m[\u001b[0m\u001b[0mdf_dataset\u001b[0m\u001b[0;34m[\u001b[0m\u001b[0;34m\"word\"\u001b[0m\u001b[0;34m]\u001b[0m\u001b[0;34m.\u001b[0m\u001b[0mvalues\u001b[0m\u001b[0;34m[\u001b[0m\u001b[0mi\u001b[0m\u001b[0;34m]\u001b[0m\u001b[0;34m]\u001b[0m \u001b[0;34m=\u001b[0m \u001b[0mi\u001b[0m\u001b[0;34m\u001b[0m\u001b[0;34m\u001b[0m\u001b[0m\n\u001b[1;32m      5\u001b[0m \u001b[0;34m\u001b[0m\u001b[0m\n",
            "\u001b[0;32m/usr/local/lib/python3.10/dist-packages/pandas/core/frame.py\u001b[0m in \u001b[0;36m__getitem__\u001b[0;34m(self, key)\u001b[0m\n\u001b[1;32m   3805\u001b[0m             \u001b[0;32mif\u001b[0m \u001b[0mself\u001b[0m\u001b[0;34m.\u001b[0m\u001b[0mcolumns\u001b[0m\u001b[0;34m.\u001b[0m\u001b[0mnlevels\u001b[0m \u001b[0;34m>\u001b[0m \u001b[0;36m1\u001b[0m\u001b[0;34m:\u001b[0m\u001b[0;34m\u001b[0m\u001b[0;34m\u001b[0m\u001b[0m\n\u001b[1;32m   3806\u001b[0m                 \u001b[0;32mreturn\u001b[0m \u001b[0mself\u001b[0m\u001b[0;34m.\u001b[0m\u001b[0m_getitem_multilevel\u001b[0m\u001b[0;34m(\u001b[0m\u001b[0mkey\u001b[0m\u001b[0;34m)\u001b[0m\u001b[0;34m\u001b[0m\u001b[0;34m\u001b[0m\u001b[0m\n\u001b[0;32m-> 3807\u001b[0;31m             \u001b[0mindexer\u001b[0m \u001b[0;34m=\u001b[0m \u001b[0mself\u001b[0m\u001b[0;34m.\u001b[0m\u001b[0mcolumns\u001b[0m\u001b[0;34m.\u001b[0m\u001b[0mget_loc\u001b[0m\u001b[0;34m(\u001b[0m\u001b[0mkey\u001b[0m\u001b[0;34m)\u001b[0m\u001b[0;34m\u001b[0m\u001b[0;34m\u001b[0m\u001b[0m\n\u001b[0m\u001b[1;32m   3808\u001b[0m             \u001b[0;32mif\u001b[0m \u001b[0mis_integer\u001b[0m\u001b[0;34m(\u001b[0m\u001b[0mindexer\u001b[0m\u001b[0;34m)\u001b[0m\u001b[0;34m:\u001b[0m\u001b[0;34m\u001b[0m\u001b[0;34m\u001b[0m\u001b[0m\n\u001b[1;32m   3809\u001b[0m                 \u001b[0mindexer\u001b[0m \u001b[0;34m=\u001b[0m \u001b[0;34m[\u001b[0m\u001b[0mindexer\u001b[0m\u001b[0;34m]\u001b[0m\u001b[0;34m\u001b[0m\u001b[0;34m\u001b[0m\u001b[0m\n",
            "\u001b[0;32m/usr/local/lib/python3.10/dist-packages/pandas/core/indexes/base.py\u001b[0m in \u001b[0;36mget_loc\u001b[0;34m(self, key, method, tolerance)\u001b[0m\n\u001b[1;32m   3802\u001b[0m                 \u001b[0;32mreturn\u001b[0m \u001b[0mself\u001b[0m\u001b[0;34m.\u001b[0m\u001b[0m_engine\u001b[0m\u001b[0;34m.\u001b[0m\u001b[0mget_loc\u001b[0m\u001b[0;34m(\u001b[0m\u001b[0mcasted_key\u001b[0m\u001b[0;34m)\u001b[0m\u001b[0;34m\u001b[0m\u001b[0;34m\u001b[0m\u001b[0m\n\u001b[1;32m   3803\u001b[0m             \u001b[0;32mexcept\u001b[0m \u001b[0mKeyError\u001b[0m \u001b[0;32mas\u001b[0m \u001b[0merr\u001b[0m\u001b[0;34m:\u001b[0m\u001b[0;34m\u001b[0m\u001b[0;34m\u001b[0m\u001b[0m\n\u001b[0;32m-> 3804\u001b[0;31m                 \u001b[0;32mraise\u001b[0m \u001b[0mKeyError\u001b[0m\u001b[0;34m(\u001b[0m\u001b[0mkey\u001b[0m\u001b[0;34m)\u001b[0m \u001b[0;32mfrom\u001b[0m \u001b[0merr\u001b[0m\u001b[0;34m\u001b[0m\u001b[0;34m\u001b[0m\u001b[0m\n\u001b[0m\u001b[1;32m   3805\u001b[0m             \u001b[0;32mexcept\u001b[0m \u001b[0mTypeError\u001b[0m\u001b[0;34m:\u001b[0m\u001b[0;34m\u001b[0m\u001b[0;34m\u001b[0m\u001b[0m\n\u001b[1;32m   3806\u001b[0m                 \u001b[0;31m# If we have a listlike key, _check_indexing_error will raise\u001b[0m\u001b[0;34m\u001b[0m\u001b[0;34m\u001b[0m\u001b[0m\n",
            "\u001b[0;31mKeyError\u001b[0m: 'word'"
          ]
        }
      ],
      "source": [
        "dict_freqs = {\"positive\": {}, \"negative\": {}}\n",
        "VOCAB_IDX = {}\n",
        "for i in range(0,len(df_dataset[\"word\"].values)):\n",
        "    VOCAB_IDX[df_dataset[\"word\"].values[i]] = i\n",
        "\n",
        "for idx in range(df_train.shape[0]):\n",
        "    review = df_train.iloc[idx][\"text\"]\n",
        "    sentiment = df_train.iloc[idx][\"sentiment\"]\n",
        "\n",
        "    for word in review.split(\" \"):\n",
        "        if word in VOCAB_IDX:\n",
        "            dict_freqs[sentiment][word] = dict_freqs[sentiment].get(word,0)+1\n",
        "\n",
        "dict_freqs_sepal_length = { \n",
        "    \"setosa\": {}, \n",
        "    \"virginica\": {}, \n",
        "    \"versicolour\": {}\n",
        "    }\n",
        "\n",
        "dict_freqs_sepal_length"
      ]
    },
    {
      "attachments": {},
      "cell_type": "markdown",
      "metadata": {
        "id": "lD8OrmqZE4NI"
      },
      "source": [
        "#### 2. Feladat - Határozza meg a \"sepal_length\" paraméter teljes gyakoriságát. (1. pont)"
      ]
    },
    {
      "cell_type": "code",
      "execution_count": 92,
      "metadata": {
        "colab": {
          "base_uri": "https://localhost:8080/"
        },
        "id": "PQE-31KJE4NJ",
        "outputId": "baa1c700-4fcb-4da8-a601-e4c943e3ef7e"
      },
      "outputs": [
        {
          "data": {
            "text/plain": [
              "{1: 0, 2: 0, 3: 0, 4: 0, 5: 0, 6: 0, 7: 0}"
            ]
          },
          "execution_count": 92,
          "metadata": {},
          "output_type": "execute_result"
        }
      ],
      "source": [
        "dict_values = {item : 0 for item in list(set(df_dataset['sepal length'].values))}\n",
        "\n",
        "dict_values"
      ]
    },
    {
      "attachments": {},
      "cell_type": "markdown",
      "metadata": {
        "id": "UQ5VaI_VE4NJ"
      },
      "source": [
        "#### 2. Feladat - Számolja ki az előfordulási hányadost. Ami az osztályonkénti gyakoriság és teljes gyakoriság hányadosa. (1. pont)"
      ]
    },
    {
      "cell_type": "code",
      "execution_count": 94,
      "metadata": {
        "colab": {
          "base_uri": "https://localhost:8080/",
          "height": 235
        },
        "id": "hL_1JeIbE4NJ",
        "outputId": "6fcc7c3c-89af-4459-e524-17a5b71289eb"
      },
      "outputs": [
        {
          "ename": "KeyError",
          "evalue": "ignored",
          "output_type": "error",
          "traceback": [
            "\u001b[0;31m---------------------------------------------------------------------------\u001b[0m",
            "\u001b[0;31mKeyError\u001b[0m                                  Traceback (most recent call last)",
            "\u001b[0;32m<ipython-input-94-572541a0ef70>\u001b[0m in \u001b[0;36m<cell line: 6>\u001b[0;34m()\u001b[0m\n\u001b[1;32m      6\u001b[0m \u001b[0;32mfor\u001b[0m \u001b[0msepal_l\u001b[0m\u001b[0;34m,\u001b[0m \u001b[0mvalue\u001b[0m \u001b[0;32min\u001b[0m \u001b[0mratio\u001b[0m\u001b[0;34m.\u001b[0m\u001b[0mitems\u001b[0m\u001b[0;34m(\u001b[0m\u001b[0;34m)\u001b[0m\u001b[0;34m:\u001b[0m\u001b[0;34m\u001b[0m\u001b[0;34m\u001b[0m\u001b[0m\n\u001b[1;32m      7\u001b[0m     \u001b[0;32mfor\u001b[0m \u001b[0mcls\u001b[0m\u001b[0;34m,\u001b[0m \u001b[0mtmp\u001b[0m \u001b[0;32min\u001b[0m \u001b[0mvalue\u001b[0m\u001b[0;34m.\u001b[0m\u001b[0mitems\u001b[0m\u001b[0;34m(\u001b[0m\u001b[0;34m)\u001b[0m\u001b[0;34m:\u001b[0m\u001b[0;34m\u001b[0m\u001b[0;34m\u001b[0m\u001b[0m\n\u001b[0;32m----> 8\u001b[0;31m         \u001b[0mvalue\u001b[0m\u001b[0;34m[\u001b[0m\u001b[0mcls\u001b[0m\u001b[0;34m]\u001b[0m \u001b[0;34m=\u001b[0m \u001b[0mdict_freqs_sepal_length\u001b[0m\u001b[0;34m[\u001b[0m\u001b[0mcls\u001b[0m\u001b[0;34m]\u001b[0m\u001b[0;34m[\u001b[0m\u001b[0msepal_l\u001b[0m\u001b[0;34m]\u001b[0m \u001b[0;34m/\u001b[0m \u001b[0mdict_values\u001b[0m\u001b[0;34m[\u001b[0m\u001b[0msepal_l\u001b[0m\u001b[0;34m]\u001b[0m\u001b[0;34m;\u001b[0m\u001b[0;34m\u001b[0m\u001b[0;34m\u001b[0m\u001b[0m\n\u001b[0m\u001b[1;32m      9\u001b[0m \u001b[0;34m\u001b[0m\u001b[0m\n\u001b[1;32m     10\u001b[0m \u001b[0mratio\u001b[0m\u001b[0;34m\u001b[0m\u001b[0;34m\u001b[0m\u001b[0m\n",
            "\u001b[0;31mKeyError\u001b[0m: 1"
          ]
        }
      ],
      "source": [
        "ratio = {item : { \"setosa\" : 0, \"virginica\" : 0, \"versicolour\" : 0}\n",
        "         for item in list(set(df_dataset['sepal length'].values))}\n",
        "\n",
        "ratio.items()\n",
        "\n",
        "for sepal_l, value in ratio.items():\n",
        "    for cls, tmp in value.items():\n",
        "        value[cls] = dict_freqs_sepal_length[cls][sepal_l] / dict_values[sepal_l];\n",
        "\n",
        "ratio\n",
        "\n"
      ]
    },
    {
      "attachments": {},
      "cell_type": "markdown",
      "metadata": {
        "id": "n_rt1Q_dE4NK"
      },
      "source": [
        "#### 2. Feladat - Készítsen egy predikciós táblát amely tartalmazza, hogy egy adott sepal length értékhez mi a legvalószínűbb osztály. Majd a predikcós táblát használva számolja ki a tanuló és teszt adathalmazon a pontosságot. (1. pont)"
      ]
    },
    {
      "cell_type": "code",
      "execution_count": 96,
      "metadata": {
        "colab": {
          "base_uri": "https://localhost:8080/"
        },
        "id": "ssdmAK8RE4NK",
        "outputId": "f89bd6cc-d909-4aa9-95f9-2cc86697f2dc"
      },
      "outputs": [
        {
          "data": {
            "text/plain": [
              "{}"
            ]
          },
          "execution_count": 96,
          "metadata": {},
          "output_type": "execute_result"
        }
      ],
      "source": [
        "import numpy as np\n",
        "\n",
        "pred_table = {}\n",
        "    \n",
        "pred_table"
      ]
    },
    {
      "cell_type": "code",
      "execution_count": 79,
      "metadata": {
        "id": "TQoPIUXcE4NK"
      },
      "outputs": [],
      "source": [
        "def prediction(val):\n",
        "    return pred_table[val]"
      ]
    },
    {
      "cell_type": "code",
      "execution_count": 98,
      "metadata": {
        "colab": {
          "base_uri": "https://localhost:8080/",
          "height": 345
        },
        "id": "0jffuT5oE4NL",
        "outputId": "72113625-bf33-4d50-a4c6-f4b5a25e3765"
      },
      "outputs": [
        {
          "ename": "InvalidParameterError",
          "evalue": "ignored",
          "output_type": "error",
          "traceback": [
            "\u001b[0;31m---------------------------------------------------------------------------\u001b[0m",
            "\u001b[0;31mInvalidParameterError\u001b[0m                     Traceback (most recent call last)",
            "\u001b[0;32m<ipython-input-98-a6f0339eeb97>\u001b[0m in \u001b[0;36m<cell line: 5>\u001b[0;34m()\u001b[0m\n\u001b[1;32m      3\u001b[0m \u001b[0mpred\u001b[0m \u001b[0;34m=\u001b[0m \u001b[0;32mNone\u001b[0m\u001b[0;34m\u001b[0m\u001b[0;34m\u001b[0m\u001b[0m\n\u001b[1;32m      4\u001b[0m \u001b[0;34m\u001b[0m\u001b[0m\n\u001b[0;32m----> 5\u001b[0;31m \u001b[0maccuracy_score\u001b[0m\u001b[0;34m(\u001b[0m\u001b[0mdf_train\u001b[0m\u001b[0;34m[\u001b[0m\u001b[0;34m\"label\"\u001b[0m\u001b[0;34m]\u001b[0m\u001b[0;34m.\u001b[0m\u001b[0mvalues\u001b[0m\u001b[0;34m,\u001b[0m \u001b[0mpred\u001b[0m\u001b[0;34m)\u001b[0m\u001b[0;34m\u001b[0m\u001b[0;34m\u001b[0m\u001b[0m\n\u001b[0m",
            "\u001b[0;32m/usr/local/lib/python3.10/dist-packages/sklearn/utils/_param_validation.py\u001b[0m in \u001b[0;36mwrapper\u001b[0;34m(*args, **kwargs)\u001b[0m\n\u001b[1;32m    185\u001b[0m             \u001b[0mparams\u001b[0m \u001b[0;34m=\u001b[0m \u001b[0;34m{\u001b[0m\u001b[0mk\u001b[0m\u001b[0;34m:\u001b[0m \u001b[0mv\u001b[0m \u001b[0;32mfor\u001b[0m \u001b[0mk\u001b[0m\u001b[0;34m,\u001b[0m \u001b[0mv\u001b[0m \u001b[0;32min\u001b[0m \u001b[0mparams\u001b[0m\u001b[0;34m.\u001b[0m\u001b[0marguments\u001b[0m\u001b[0;34m.\u001b[0m\u001b[0mitems\u001b[0m\u001b[0;34m(\u001b[0m\u001b[0;34m)\u001b[0m \u001b[0;32mif\u001b[0m \u001b[0mk\u001b[0m \u001b[0;32mnot\u001b[0m \u001b[0;32min\u001b[0m \u001b[0mto_ignore\u001b[0m\u001b[0;34m}\u001b[0m\u001b[0;34m\u001b[0m\u001b[0;34m\u001b[0m\u001b[0m\n\u001b[1;32m    186\u001b[0m \u001b[0;34m\u001b[0m\u001b[0m\n\u001b[0;32m--> 187\u001b[0;31m             validate_parameter_constraints(\n\u001b[0m\u001b[1;32m    188\u001b[0m                 \u001b[0mparameter_constraints\u001b[0m\u001b[0;34m,\u001b[0m \u001b[0mparams\u001b[0m\u001b[0;34m,\u001b[0m \u001b[0mcaller_name\u001b[0m\u001b[0;34m=\u001b[0m\u001b[0mfunc\u001b[0m\u001b[0;34m.\u001b[0m\u001b[0m__qualname__\u001b[0m\u001b[0;34m\u001b[0m\u001b[0;34m\u001b[0m\u001b[0m\n\u001b[1;32m    189\u001b[0m             )\n",
            "\u001b[0;32m/usr/local/lib/python3.10/dist-packages/sklearn/utils/_param_validation.py\u001b[0m in \u001b[0;36mvalidate_parameter_constraints\u001b[0;34m(parameter_constraints, params, caller_name)\u001b[0m\n\u001b[1;32m     95\u001b[0m                 )\n\u001b[1;32m     96\u001b[0m \u001b[0;34m\u001b[0m\u001b[0m\n\u001b[0;32m---> 97\u001b[0;31m             raise InvalidParameterError(\n\u001b[0m\u001b[1;32m     98\u001b[0m                 \u001b[0;34mf\"The {param_name!r} parameter of {caller_name} must be\"\u001b[0m\u001b[0;34m\u001b[0m\u001b[0;34m\u001b[0m\u001b[0m\n\u001b[1;32m     99\u001b[0m                 \u001b[0;34mf\" {constraints_str}. Got {param_val!r} instead.\"\u001b[0m\u001b[0;34m\u001b[0m\u001b[0;34m\u001b[0m\u001b[0m\n",
            "\u001b[0;31mInvalidParameterError\u001b[0m: The 'y_pred' parameter of accuracy_score must be an array-like or a sparse matrix. Got None instead."
          ]
        }
      ],
      "source": [
        "from sklearn.metrics import accuracy_score\n",
        "\n",
        "pred = None\n",
        "\n",
        "accuracy_score(df_train[\"label\"].values, pred)"
      ]
    },
    {
      "attachments": {},
      "cell_type": "markdown",
      "metadata": {
        "id": "wVcp9OPlE4NL"
      },
      "source": [
        "### 3. Feladat (4. pont)\n",
        "Használd a Q-learning algoritmust, hogy kiképez egy ágenst ami megtalálja a laborintusban a legrövidebb utat."
      ]
    },
    {
      "attachments": {},
      "cell_type": "markdown",
      "metadata": {
        "id": "uS_oelFBE4NL"
      },
      "source": [
        "#### 3. Feladat - Írd meg a Q-learning osztály learn metódusát úgy a Q-learning képletének megfelelően firissítse a Q-táblát. A labirintus megoldásához egy 3 dimenizós Q-táblát használt melynek dimenzióji a következő felépítésüek: (1. pont)\n",
        "- 1. Sorok száma\n",
        "- 2. Oszlopok száma\n",
        "- 3. Cselekvések száma"
      ]
    },
    {
      "cell_type": "code",
      "execution_count": 59,
      "metadata": {
        "id": "qWy0nBEXE4NM"
      },
      "outputs": [],
      "source": [
        "import random\n",
        "import numpy as np\n",
        "\n",
        "class QLearningAgent:\n",
        "    \"\"\"\n",
        "    A Q-learning ügynökünket képviselő osztály\n",
        "    \"\"\"\n",
        "    def __init__(self, n_states_row,  n_states_cols, n_actions, learning_rate):\n",
        "        self.n_states_row = n_states_row\n",
        "        self.n_states_cols = n_states_cols\n",
        "        self.n_actions = n_actions\n",
        "        self.learning_rate = learning_rate\n",
        "        \n",
        "        self.q_table = np.zeros((self.n_states_row, self.n_states_cols, n_actions))\n",
        "    \n",
        "    def act(self, state_row, state_col, epsilon):\n",
        "        # Generáljon véletlen számot a [0, 1] intervallumon\n",
        "        random_int = random.uniform(0,1)\n",
        "        \n",
        "        # We exploit with (1-epsilon) probability\n",
        "        if random_int > epsilon:\n",
        "            action = np.argmax(self.q_table[state_row][state_col])\n",
        "        # We explore with epsilon probability\n",
        "        else:\n",
        "            action = random.randint(0, self.n_actions - 1)\n",
        "        \n",
        "        return action\n",
        "    \n",
        "    def learn(self, state_row, state_col, action, reward, new_state_row, new_state_col, gamma):        \n",
        "        old_value = self.q_table[state_row][state_col][action]\n",
        "        new_estimate = reward + gamma * max(self.q_table[new_state_row][new_state_col]) \n",
        "        \n",
        "        self.q_table[state_row][state_col][action] = old_value + self.learning_rate * (new_estimate- old_value)"
      ]
    },
    {
      "attachments": {},
      "cell_type": "markdown",
      "metadata": {
        "id": "EoiwCyfyE4NM"
      },
      "source": [
        "#### 3. Feladat - Írd meg a play metódust amely elvégzi a labirntus kereső osztály tanulást a Q-Learning ágenst használva (1.5 pont)"
      ]
    },
    {
      "cell_type": "code",
      "execution_count": 60,
      "metadata": {
        "id": "keB0y8uQE4NM"
      },
      "outputs": [],
      "source": [
        "from tqdm import tqdm\n",
        "import matplotlib.pyplot as plt\n",
        "\n",
        "class Maze():\n",
        "    def __init__(self, epsilon, gamma, environment, aisles):\n",
        "        self.epsilon = epsilon\n",
        "        self.gamma = gamma\n",
        "        self.agent = None\n",
        "        self.aisles = aisles\n",
        "        self.environment_rows = environment[0]\n",
        "        self.environment_columns = environment[1]\n",
        "        self.actions = ['up', 'right', 'down', 'left']\n",
        "        self.rewards = np.full((self.environment_rows, self.environment_columns), -100.)\n",
        "        self.rewards[0, 5] = 100.\n",
        "\n",
        "        # Rewardok beállítása a folyosókhoz\n",
        "        for row in range(1, self.environment_rows-1):\n",
        "            for col in self.aisles[row]:\n",
        "                self.rewards[row, col] = -1.\n",
        "    \n",
        "    def set_agent(self, agent):\n",
        "        self.agent = agent\n",
        "\n",
        "    def get_rewards(self):\n",
        "        return self.rewards\n",
        "\n",
        "    def viz(self, tabel):\n",
        "        plt.imshow(tabel)\n",
        "        plt.colorbar()\n",
        "        plt.show()\n",
        "\n",
        "    def viz_route(self, start_row, start_col):\n",
        "        shortest_path = self.get_shortest_path(start_row, start_col)\n",
        "        table = self.get_rewards().copy()\n",
        "        for item in shortest_path:\n",
        "            table[item[0]][item[1]] = 50\n",
        "        \n",
        "        self.viz(table)\n",
        "        \n",
        "    def is_terminal_state(self, row, col):\n",
        "        \"\"\" Vég állapot vizsgálata\"\"\"\n",
        "        if self.rewards[row, col] == -1.:\n",
        "            return False\n",
        "        else:\n",
        "            return True\n",
        "            \n",
        "    def get_starting_location(self):\n",
        "        \"\"\"Nem terminális kezdőpont generálása\"\"\"\n",
        "        row = np.random.randint(self.environment_rows)\n",
        "        column = np.random.randint(self.environment_columns)\n",
        "\n",
        "        # Ha terminális állapotot generálunk tovább probálkozunk\n",
        "        while self.is_terminal_state(row, column):\n",
        "            row = np.random.randint(self.environment_rows)\n",
        "            column = np.random.randint(self.environment_columns)\n",
        "        \n",
        "        return row, column\n",
        "    \n",
        "    # define a function that will get the next location based on the chosen action\n",
        "    def get_next_location(self, row, col, action):\n",
        "        \"\"\"Definiál egy függvényt, amely a következő helyet vissza adja a \n",
        "        kiválasztott művelet alapján\"\"\"\n",
        "        new_row = row\n",
        "        new_column = col\n",
        "        if self.actions[action] == 'up' and row > 0:\n",
        "            new_row -= 1\n",
        "        elif self.actions[action] == 'right' and col < self.environment_columns - 1:\n",
        "            new_column += 1\n",
        "        elif self.actions[action] == 'down' and row < self.environment_rows - 1:\n",
        "            new_row += 1\n",
        "        elif self.actions[action] == 'left' and col > 0:\n",
        "            new_column -= 1\n",
        "        return new_row, new_column\n",
        "  \n",
        "    def get_shortest_path(self, start_row, start_column):\n",
        "        \"\"\"Vissza adja a legröbidebb utat\"\"\"       \n",
        "        if self.is_terminal_state(start_row, start_column):\n",
        "            return []\n",
        "        else: \n",
        "            # Ha nem terminális a kezdő pont\n",
        "            current_row, current_column = start_row, start_column\n",
        "            shortest_path = []\n",
        "            shortest_path.append([current_row, current_column])\n",
        "            # Megyünk amíg terminálisig nem jutunk.\n",
        "            while not self.is_terminal_state(current_row, current_column):\n",
        "                action = np.argmax(self.agent.q_table[current_row][current_column])                \n",
        "                current_row, current_column = self.get_next_location(current_row, current_column, action)\n",
        "                shortest_path.append([current_row, current_column])\n",
        "                \n",
        "            return shortest_path\n",
        "\n",
        "    def play(self, learning_step):\n",
        "        \"\"\"A tanulást végző metódus\"\"\"\n",
        "        for episode in tqdm(range(learning_step)):\n",
        "            new_row, new_column = self.get_starting_location()\n",
        "            while not self.is_terminal_state(new_row, new_column):\n",
        "                \n",
        "                action = self.agent.act(new_row, new_column,self.epsilon)               \n",
        "                next_row, next_col = self.get_next_location(new_row,new_column,action)\n",
        "                reward = self.rewards[next_row][next_col]\n",
        "                self.agent.learn(new_row,new_column,action,reward,next_row,next_col,self.gamma)\n",
        "                new_row, new_column = next_row, next_col"
      ]
    },
    {
      "attachments": {},
      "cell_type": "markdown",
      "metadata": {
        "id": "hImqID8QE4NN"
      },
      "source": [
        "#### 3. Feladat - Maze osztály példányosítása"
      ]
    },
    {
      "cell_type": "code",
      "execution_count": 61,
      "metadata": {
        "id": "JBRAYUQDE4NN"
      },
      "outputs": [],
      "source": [
        "# Folyosók\n",
        "aisles = {}\n",
        "aisles[1] = [i for i in range(5, 10)]\n",
        "aisles[2] = [5, 9]\n",
        "aisles[3] = [i for i in range(1, 8)]\n",
        "aisles[3].append(9)\n",
        "aisles[4] = [3, 7]\n",
        "aisles[5] = [i for i in range(3, 11)]\n",
        "aisles[6] = [5]\n",
        "aisles[7] = [i for i in range(5, 10)]\n",
        "aisles[8] = [3, 7]\n",
        "aisles[9] = [i for i in range(11)]"
      ]
    },
    {
      "cell_type": "code",
      "execution_count": 62,
      "metadata": {
        "id": "PTSWnxWsE4NO"
      },
      "outputs": [],
      "source": [
        "maze = Maze(epsilon = 0.9, gamma = 0.9, environment=(11,11), aisles = aisles)"
      ]
    },
    {
      "cell_type": "code",
      "execution_count": 63,
      "metadata": {
        "colab": {
          "base_uri": "https://localhost:8080/",
          "height": 435
        },
        "id": "zUMVV1g6E4NO",
        "outputId": "e4a4de63-4b28-4eab-c50b-d3107705041c"
      },
      "outputs": [
        {
          "data": {
            "image/png": "[encoded data removed]",
            "text/plain": [
              "<Figure size 640x480 with 2 Axes>"
            ]
          },
          "metadata": {},
          "output_type": "display_data"
        }
      ],
      "source": [
        "maze.viz(maze.get_rewards())"
      ]
    },
    {
      "attachments": {},
      "cell_type": "markdown",
      "metadata": {
        "id": "Um2LL4wRE4NO"
      },
      "source": [
        "#### 3. Feladat - Q-Learning Ágens példányosítása"
      ]
    },
    {
      "cell_type": "code",
      "execution_count": 64,
      "metadata": {
        "colab": {
          "base_uri": "https://localhost:8080/"
        },
        "id": "gUcPMtvRE4NP",
        "outputId": "4e8f8cca-e5dd-45f4-f71b-972488644162"
      },
      "outputs": [
        {
          "data": {
            "text/plain": [
              "array([0., 0., 0., 0.])"
            ]
          },
          "execution_count": 64,
          "metadata": {},
          "output_type": "execute_result"
        }
      ],
      "source": [
        "agent = QLearningAgent(\n",
        "    n_states_row=11, \n",
        "    n_states_cols=11, \n",
        "    n_actions=len(maze.actions), \n",
        "    learning_rate=0.9)\n",
        "\n",
        "maze.set_agent(agent)\n",
        "\n",
        "agent.q_table[0][0]"
      ]
    },
    {
      "attachments": {},
      "cell_type": "markdown",
      "metadata": {
        "id": "mSH8XFL9E4NP"
      },
      "source": [
        "#### 3. Feladat - Tanítsd be az Ágenst 10000 lépessel (1. pont)"
      ]
    },
    {
      "cell_type": "code",
      "execution_count": 65,
      "metadata": {
        "colab": {
          "base_uri": "https://localhost:8080/"
        },
        "id": "GgQOsl9DE4NP",
        "outputId": "e1b70296-3b16-4bfe-ed14-9c4d75fa7d27"
      },
      "outputs": [
        {
          "name": "stderr",
          "output_type": "stream",
          "text": [
            "100%|██████████| 10000/10000 [00:00<00:00, 25474.11it/s]\n"
          ]
        }
      ],
      "source": [
        "n_states_row = maze.environment_rows * maze.environment_rows * 2;\n",
        "n_states_cols = maze.environment_columns * maze.environment_columns * 2;\n",
        "maze.agent = QLearningAgent(n_states_row,n_states_cols,4,1.0)\n",
        "\n",
        "maze.play(10000)"
      ]
    },
    {
      "attachments": {},
      "cell_type": "markdown",
      "metadata": {
        "id": "loNfPDn-E4Nf"
      },
      "source": [
        "#### 3. Feladat - Vizualizáld a megadott kezdőponttal a tanulás eredményét (0.5. pont)"
      ]
    },
    {
      "cell_type": "code",
      "execution_count": 66,
      "metadata": {
        "colab": {
          "base_uri": "https://localhost:8080/",
          "height": 430
        },
        "id": "FL2GSUEqE4Nf",
        "outputId": "7df3d49f-900b-4b20-be31-120e33ed73ef"
      },
      "outputs": [
        {
          "data": {
            "image/png": "[encoded data removed]",
            "text/plain": [
              "<Figure size 640x480 with 2 Axes>"
            ]
          },
          "metadata": {},
          "output_type": "display_data"
        }
      ],
      "source": [
        "maze.viz_route(5, 5)"
      ]
    }
  ],
  "metadata": {
    "colab": {
      "collapsed_sections": [
        "7FspfTLwE4ND",
        "uS_oelFBE4NL",
        "EoiwCyfyE4NM",
        "hImqID8QE4NN",
        "Um2LL4wRE4NO",
        "mSH8XFL9E4NP",
        "loNfPDn-E4Nf"
      ],
      "provenance": []
    },
    "kernelspec": {
      "display_name": "KDP",
      "language": "python",
      "name": "python3"
    },
    "language_info": {
      "codemirror_mode": {
        "name": "ipython",
        "version": 3
      },
      "file_extension": ".py",
      "mimetype": "text/x-python",
      "name": "python",
      "nbconvert_exporter": "python",
      "pygments_lexer": "ipython3",
      "version": "3.10.4"
    },
    "orig_nbformat": 4
  },
  "nbformat": 4,
  "nbformat_minor": 0
}
