{
 "cells": [
  {
   "attachments": {},
   "cell_type": "markdown",
   "metadata": {},
   "source": [
    "# Váltás a második témára\n",
    "\n",
    "min-max módszer, alfa, béta vágás\n",
    "\n",
    "Jellemzők:\n",
    "H = {0,1,2}, 0-üres, 1-karika, 2-x\n",
    "\n",
    "Állások halmaza:\n",
    "A kiflialattvonal H^(3*3)\n",
    "\n",
    "Fu = {0,1,2} -> {0,1} ahol v eleme {1,2} és Fu(x) = 1, ha x=v\n",
    "                                                    0, egyébkét\n",
    "\n",
    "A= a11 ... a13  | a11 ... a13\n",
    "   ...  .  ...  | ...  .  ...  \n",
    "   a33 ... a33  | a33 ... a33\n",
    "\n",
    "Lépések(operátorok):\n",
    "L={li.j.k | i eleme {1,2,3} és j eleme {1,2,3} és k eleme {1,2,3}}"
   ]
  },
  {
   "cell_type": "code",
   "execution_count": 3,
   "metadata": {},
   "outputs": [
    {
     "name": "stdout",
     "output_type": "stream",
     "text": [
      ". . . \n",
      ". . . \n",
      ". . . \n"
     ]
    }
   ],
   "source": [
    "from ticTacToe import TicTacToe\n",
    "\n",
    "ttt = TicTacToe()\n",
    "ttt.display(ttt.initial)"
   ]
  },
  {
   "cell_type": "code",
   "execution_count": 4,
   "metadata": {},
   "outputs": [
    {
     "name": "stdout",
     "output_type": "stream",
     "text": [
      "O . X \n",
      "O . O \n",
      "X . . \n"
     ]
    }
   ],
   "source": [
    "from ticTacToe import GameState\n",
    "\n",
    "my_state = GameState(to_move='X',\n",
    "                    utility='0',\n",
    "                    board= {(1,1): 'X', (1,1): 'O', (1,3): 'X',\n",
    "                            (2,1): 'O',             (2,3): 'O',\n",
    "                            (3,1): 'X'},\n",
    "                    moves=[(2,2),(3,2),(3,3)])\n",
    "\n",
    "ttt.display(my_state)"
   ]
  },
  {
   "cell_type": "code",
   "execution_count": 5,
   "metadata": {},
   "outputs": [
    {
     "data": {
      "text/plain": [
       "(3, 3)"
      ]
     },
     "execution_count": 5,
     "metadata": {},
     "output_type": "execute_result"
    }
   ],
   "source": [
    "import random\n",
    "\n",
    "def random_player(game, state):\n",
    "    return random.choice(game.actions(state)) if game.actions(state) else None\n",
    "\n",
    "random_player(ttt, my_state)"
   ]
  },
  {
   "cell_type": "code",
   "execution_count": 6,
   "metadata": {},
   "outputs": [
    {
     "name": "stdout",
     "output_type": "stream",
     "text": [
      "O O O \n",
      ". X . \n",
      "X . X \n"
     ]
    },
    {
     "data": {
      "text/plain": [
       "-1"
      ]
     },
     "execution_count": 6,
     "metadata": {},
     "output_type": "execute_result"
    }
   ],
   "source": [
    "ttt.play_game(random_player, random_player)"
   ]
  },
  {
   "cell_type": "code",
   "execution_count": 7,
   "metadata": {},
   "outputs": [],
   "source": [
    "from decision import alpha_beta_search\n",
    "\n",
    "def alpha_beta_search(game, state):\n",
    "    return alpha_beta_search(state, game)"
   ]
  },
  {
   "cell_type": "code",
   "execution_count": 11,
   "metadata": {},
   "outputs": [
    {
     "ename": "RecursionError",
     "evalue": "maximum recursion depth exceeded",
     "output_type": "error",
     "traceback": [
      "\u001b[1;31m---------------------------------------------------------------------------\u001b[0m",
      "\u001b[1;31mRecursionError\u001b[0m                            Traceback (most recent call last)",
      "Cell \u001b[1;32mIn[11], line 1\u001b[0m\n\u001b[1;32m----> 1\u001b[0m ttt\u001b[39m.\u001b[39;49mplay_game(alpha_beta_search, random_player)\n",
      "File \u001b[1;32mc:\\Users\\hallgato\\mestint\\week7\\game.py:43\u001b[0m, in \u001b[0;36mGame.play_game\u001b[1;34m(self, *players)\u001b[0m\n\u001b[0;32m     38\u001b[0m \u001b[39mwhile\u001b[39;00m(\u001b[39mTrue\u001b[39;00m):\n\u001b[0;32m     39\u001b[0m     \n\u001b[0;32m     40\u001b[0m     \u001b[39m#Veszünk egy játékost\u001b[39;00m\n\u001b[0;32m     41\u001b[0m     \u001b[39mfor\u001b[39;00m player \u001b[39min\u001b[39;00m players:\n\u001b[0;32m     42\u001b[0m         \u001b[39m#Adjon egy lépést a választott játékos\u001b[39;00m\n\u001b[1;32m---> 43\u001b[0m         move \u001b[39m=\u001b[39m player(\u001b[39mself\u001b[39;49m, state)\n\u001b[0;32m     45\u001b[0m         \u001b[39m#Kérjük vissza anak eredményét, hogy hogyan módosul a játék\u001b[39;00m\n\u001b[0;32m     46\u001b[0m         \u001b[39m#játékos lépést elvégezzük\u001b[39;00m\n\u001b[0;32m     47\u001b[0m         state \u001b[39m=\u001b[39m \u001b[39mself\u001b[39m\u001b[39m.\u001b[39mresult(state, move)\n",
      "Cell \u001b[1;32mIn[7], line 4\u001b[0m, in \u001b[0;36malpha_beta_search\u001b[1;34m(game, state)\u001b[0m\n\u001b[0;32m      3\u001b[0m \u001b[39mdef\u001b[39;00m \u001b[39malpha_beta_search\u001b[39m(game, state):\n\u001b[1;32m----> 4\u001b[0m     \u001b[39mreturn\u001b[39;00m alpha_beta_search(state, game)\n",
      "Cell \u001b[1;32mIn[7], line 4\u001b[0m, in \u001b[0;36malpha_beta_search\u001b[1;34m(game, state)\u001b[0m\n\u001b[0;32m      3\u001b[0m \u001b[39mdef\u001b[39;00m \u001b[39malpha_beta_search\u001b[39m(game, state):\n\u001b[1;32m----> 4\u001b[0m     \u001b[39mreturn\u001b[39;00m alpha_beta_search(state, game)\n",
      "    \u001b[1;31m[... skipping similar frames: alpha_beta_search at line 4 (2970 times)]\u001b[0m\n",
      "Cell \u001b[1;32mIn[7], line 4\u001b[0m, in \u001b[0;36malpha_beta_search\u001b[1;34m(game, state)\u001b[0m\n\u001b[0;32m      3\u001b[0m \u001b[39mdef\u001b[39;00m \u001b[39malpha_beta_search\u001b[39m(game, state):\n\u001b[1;32m----> 4\u001b[0m     \u001b[39mreturn\u001b[39;00m alpha_beta_search(state, game)\n",
      "\u001b[1;31mRecursionError\u001b[0m: maximum recursion depth exceeded"
     ]
    }
   ],
   "source": [
    "ttt.play_game(alpha_beta_search, random_player)"
   ]
  }
 ],
 "metadata": {
  "kernelspec": {
   "display_name": "Python 3",
   "language": "python",
   "name": "python3"
  },
  "language_info": {
   "codemirror_mode": {
    "name": "ipython",
    "version": 3
   },
   "file_extension": ".py",
   "mimetype": "text/x-python",
   "name": "python",
   "nbconvert_exporter": "python",
   "pygments_lexer": "ipython3",
   "version": "3.11.1 (tags/v3.11.1:a7a450f, Dec  6 2022, 19:58:39) [MSC v.1934 64 bit (AMD64)]"
  },
  "orig_nbformat": 4,
  "vscode": {
   "interpreter": {
    "hash": "5238573367df39f7286bb46f9ff5f08f63a01a80960060ce41e3c79b190280fa"
   }
  }
 },
 "nbformat": 4,
 "nbformat_minor": 2
}
