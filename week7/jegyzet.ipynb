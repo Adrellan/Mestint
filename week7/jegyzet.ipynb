{
 "cells": [
  {
   "attachments": {},
   "cell_type": "markdown",
   "metadata": {},
   "source": [
    "# Váltás a második témára\n",
    "\n",
    "min-max módszer, alfa, béta vágás\n",
    "\n",
    "Jellemzők:\n",
    "H = {0,1,2}, 0-üres, 1-karika, 2-x\n",
    "\n",
    "Állások halmaza:\n",
    "A kiflialattvonal H^(3*3)\n",
    "\n",
    "Fu = {0,1,2} -> {0,1} ahol v eleme {1,2} és Fu(x) = 1, ha x=v\n",
    "                                                    0, egyébkét\n",
    "\n",
    "A= a11 ... a13  | a11 ... a13\n",
    "   ...  .  ...  | ...  .  ...  \n",
    "   a33 ... a33  | a33 ... a33\n",
    "\n",
    "Lépések(operátorok):\n",
    "L={li.j.k | i eleme {1,2,3} és j eleme {1,2,3} és k eleme {1,2,3}}"
   ]
  },
  {
   "cell_type": "code",
   "execution_count": 1,
   "metadata": {},
   "outputs": [
    {
     "name": "stdout",
     "output_type": "stream",
     "text": [
      ". . . \n",
      ". . . \n",
      ". . . \n"
     ]
    }
   ],
   "source": [
    "from ticTacToe import TicTacToe\n",
    "\n",
    "ttt = TicTacToe()\n",
    "ttt.display(ttt.initial)"
   ]
  },
  {
   "cell_type": "code",
   "execution_count": null,
   "metadata": {},
   "outputs": [],
   "source": [
    "from ticTacToe import GameState\n",
    "\n",
    "m_state = GameState(to_move='X',\n",
    "                    utility='0',\n",
    "                    board= {(1,1): 'X', (1,1): 'O', (1,3): 'X',\n",
    "                            (2,1): 'O',\n",
    "                            (3,1): 'X'},\n",
    "                    moves=[(2,2),(3,2),(3,3)])\n",
    "\n",
    "ttt.display(my_state)"
   ]
  }
 ],
 "metadata": {
  "kernelspec": {
   "display_name": "Python 3",
   "language": "python",
   "name": "python3"
  },
  "language_info": {
   "codemirror_mode": {
    "name": "ipython",
    "version": 3
   },
   "file_extension": ".py",
   "mimetype": "text/x-python",
   "name": "python",
   "nbconvert_exporter": "python",
   "pygments_lexer": "ipython3",
   "version": "3.11.1"
  },
  "orig_nbformat": 4,
  "vscode": {
   "interpreter": {
    "hash": "5238573367df39f7286bb46f9ff5f08f63a01a80960060ce41e3c79b190280fa"
   }
  }
 },
 "nbformat": 4,
 "nbformat_minor": 2
}
