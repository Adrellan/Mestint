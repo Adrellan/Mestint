{
 "cells": [
  {
   "attachments": {},
   "cell_type": "markdown",
   "metadata": {},
   "source": [
    "# Kényszerkielégítés\n",
    "\n",
    "Mi a különbség az általános fakeresési valamint a kényszer-kielégítési probléme között?\n",
    "\n",
    "Általános keresési probléma\n",
    "    Az állapot egy fekete doboz\n",
    "    Az állapotot bármilyen adatstruktúra ábrázolhatja\n",
    "    Csak az állapotátmenetek, heurisztika és célállapot legyen implementálva\n",
    "\n",
    "Késnyszerkieégítési probléma\n",
    "    Az állapotot Di taerományból származó Xi változókkal definiáljuk\n",
    "    A célteszt kényszerek halmaza, mely mindegyike a változók egy részhalmazát és megfelelő értékeket tartalmazza\n",
    "\n",
    "\n",
    "\n",
    "Pl az Ausztrál térképes példa\n",
    "változók: WA, NT, Q, NSW, V, SA, T\n",
    "tartoményok: Di={piros,zöld,kék}\n",
    "kényszerek: szomszédos tartomány nem lehet ugyanolyan színű\n",
    "\n",
    "A gráfszínezéses probléma, az egy NP teljes probléma, azaz nincs ismert polinomiális idpben futó algoritmus a megoldására."
   ]
  },
  {
   "cell_type": "code",
   "execution_count": 1,
   "metadata": {},
   "outputs": [],
   "source": [
    "#Képezzük le gráfra Ausztráliát\n",
    "graph = [[0,1,1,0,0,0],\n",
    "         [1,0,1,1,1,1],\n",
    "         [1,1,0,1,1,1],\n",
    "         [0,1,1,0,1,0],\n",
    "         [0,1,1,1,0,1],\n",
    "         [0,1,1,0,1,0]]\n",
    "\n",
    "# Az első sor az első gráp csomópont\n",
    "# [Nem kapcsolódik önmagához, kapcsolódik a második csomóponthoz,..., nem kapcsolódik az utolsó csomóponthoz]"
   ]
  },
  {
   "cell_type": "code",
   "execution_count": null,
   "metadata": {},
   "outputs": [],
   "source": [
    "import networkx as nx\n",
    "import matplotlib.pyplot as plt\n",
    "\n",
    "G = nx.Graph()\n",
    "for i in range(len(graph)):\n",
    "    for j in range(i+1,len(graph)):\n",
    "        if graph[i][j]:\n",
    "            G.add_edge(i,j)\n",
    "\n",
    "pos = nx.spring_layout(G)\n",
    "nx.draw(G,pos)\n",
    "nx.draw_networkx_labels(G,pos)\n",
    "plt.show()"
   ]
  },
  {
   "cell_type": "code",
   "execution_count": null,
   "metadata": {},
   "outputs": [],
   "source": [
    "def is_safe(graph, color, v, c):\n",
    "\n",
    "    for i in range(len(graph)):\n",
    "        if graph[v][i] and c == color[i]:\n",
    "            return False\n",
    "    return True"
   ]
  },
  {
   "cell_type": "code",
   "execution_count": null,
   "metadata": {},
   "outputs": [],
   "source": [
    "def backtracking(graph, graf_colors, v, colors):\n",
    "    \"\"\"\n",
    "    Ez a függv rekurzívan meghívja önmagát minden csúcsra és megrpóbálja kiválasztani a színeket\n",
    "    Ha egy adott szín nem biztonságos, mert már használják a szomszédos csúcson, akkor megpróbál egy másikat\n",
    "    Ha egyik szín sem biztonságos, akkor visszalép és megpróbálja újraszínezni az előző csúcsot\n",
    "    \"\"\"\n",
    "    # Megvizsgájuk, hogy melyik elemnél vagyunk\n",
    "    if v == len(graph):\n",
    "        return True\n",
    "\n",
    "    # Próbáljuk végig a színezést\n",
    "    for c in range(colors):\n",
    "        # Ha kiszínezhető  'v' csúcs a 'c' színnel\n",
    "        if is_safe(graph, graf_colors, v, c):\n",
    "\n",
    "            # Szíenezzük ki a 'v' csúcsot a 'c' színnel\n",
    "            graf_colors[v] = c\n",
    "\n",
    "            # Szímezzük ki a következő csúcsot\n",
    "            if backtracking(graph, graf_colors, v+1, colors):\n",
    "                return True\n",
    "            \n",
    "            # Ha nem sikerül visszalépünk ls az aktuálisan kiszínezett csúcsot '-1'-re azaz szín nélkülire állítjuk\n",
    "            graf_colors[v] = -1\n",
    "    \n",
    "        return False\n",
    "    "
   ]
  }
 ],
 "metadata": {
  "kernelspec": {
   "display_name": "Python 3",
   "language": "python",
   "name": "python3"
  },
  "language_info": {
   "codemirror_mode": {
    "name": "ipython",
    "version": 3
   },
   "file_extension": ".py",
   "mimetype": "text/x-python",
   "name": "python",
   "nbconvert_exporter": "python",
   "pygments_lexer": "ipython3",
   "version": "3.11.1"
  },
  "orig_nbformat": 4,
  "vscode": {
   "interpreter": {
    "hash": "5238573367df39f7286bb46f9ff5f08f63a01a80960060ce41e3c79b190280fa"
   }
  }
 },
 "nbformat": 4,
 "nbformat_minor": 2
}
