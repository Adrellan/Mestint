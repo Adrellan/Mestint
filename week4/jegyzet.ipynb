{
 "cells": [
  {
   "attachments": {},
   "cell_type": "markdown",
   "metadata": {},
   "source": [
    "## Nem informált keresési stratégiák\n",
    "\n",
    "---\n",
    "\n",
    "Példák a nem informált keresési stratégiákhoz:\n",
    "\n",
    "- Szélességi keresés (Breadt first)\n",
    "- Mélységi keresés (Depth first)\n",
    "- Egyenletes költségű keresés (Uniform cost)\n",
    "- Mélységkorlátozott keresés (Depth limited)\n",
    "- Interatívan mélyülő mélységi keresés (Iteratie depth first)\n",
    "\n"
   ]
  },
  {
   "cell_type": "code",
   "execution_count": null,
   "metadata": {},
   "outputs": [],
   "source": [
    "# FIFO -> Azt vesszük ki elsőnek, amit beraktunk. \n",
    "from collections import deque\n",
    "\n",
    "que = deque([1,2,3,4])\n",
    "\n",
    "for i in range (2):\n",
    "    print(que.popleft())\n",
    "\n",
    "print(que)"
   ]
  },
  {
   "cell_type": "code",
   "execution_count": null,
   "metadata": {},
   "outputs": [],
   "source": [
    "from hanoi import Hanoi\n",
    "from search import breadt_first_tree_search\n",
    "\n",
    "# Hanoi példányosítása\n",
    "h = Hanoi(3)\n",
    "print(h.size, h.initial, h.goal)\n",
    "\n",
    "# Szélességi keresés futtatása\n",
    "breadt_first_tree_search(h).solution()\n",
    "\n"
   ]
  },
  {
   "cell_type": "code",
   "execution_count": null,
   "metadata": {},
   "outputs": [],
   "source": [
    "from cup3 import Cup3\n",
    "\n",
    "# 3 korsó példányosítása\n",
    "c = Cup3((5,0,0), [(4,1,0),(4,0,1)])\n",
    "print(c.initial, c.goal)\n",
    "\n",
    "# Szélességi keresés futtatása\n",
    "breadt_first_tree_search(c).solution()"
   ]
  },
  {
   "cell_type": "code",
   "execution_count": null,
   "metadata": {},
   "outputs": [],
   "source": [
    "# Mélységi keresés\n",
    "# LIFO -> Azt vesszük ki elsőnek, amit utoljára beraktunk. \n",
    "# Verem\n",
    "stack = [1,2,3,4]\n",
    "\n",
    "for i in range (2):\n",
    "    print(stack.pop())\n",
    "\n",
    "print(stack)"
   ]
  },
  {
   "cell_type": "code",
   "execution_count": null,
   "metadata": {},
   "outputs": [],
   "source": [
    "from search import de\n",
    "from search import depth_first_graph_search\n",
    "\n",
    "# 3 korsó példányosítása\n",
    "c = Cup3((5,0,0), [(4,1,0),(4,0,1)])\n",
    "print(c.initial, c.goal)\n",
    "\n",
    "# Mélységi keresés futtatása\n",
    "dept"
   ]
  }
 ],
 "metadata": {
  "kernelspec": {
   "display_name": "Python 3",
   "language": "python",
   "name": "python3"
  },
  "language_info": {
   "codemirror_mode": {
    "name": "ipython",
    "version": 3
   },
   "file_extension": ".py",
   "mimetype": "text/x-python",
   "name": "python",
   "nbconvert_exporter": "python",
   "pygments_lexer": "ipython3",
   "version": "3.11.1"
  },
  "orig_nbformat": 4,
  "vscode": {
   "interpreter": {
    "hash": "5238573367df39f7286bb46f9ff5f08f63a01a80960060ce41e3c79b190280fa"
   }
  }
 },
 "nbformat": 4,
 "nbformat_minor": 2
}
