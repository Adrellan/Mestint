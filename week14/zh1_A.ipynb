{
 "cells": [
  {
   "cell_type": "markdown",
   "source": [],
   "metadata": {
    "collapsed": false
   }
  },
  {
   "cell_type": "markdown",
   "source": [
    "# 1. ZH A csoport - Összesen 10 pont - 90 perc áll rendelkezésre a megoldáshoz"
   ],
   "metadata": {
    "collapsed": false
   }
  },
  {
   "cell_type": "markdown",
   "source": [
    "## Azonosító adatok"
   ],
   "metadata": {
    "collapsed": false
   }
  },
  {
   "cell_type": "markdown",
   "source": [
    "- NÉV:\n",
    "- NEPTUN KÓD: "
   ],
   "metadata": {
    "collapsed": false
   }
  },
  {
   "cell_type": "markdown",
   "source": [
    "## Feladatok"
   ],
   "metadata": {
    "collapsed": false
   }
  },
  {
   "cell_type": "markdown",
   "source": [
    "1. (2 pont) Adja meg az alábbi probléma jellemzőit, illetve cél és kezdő állapotát:\n",
    "- Egy vödörben 12 liter vodkát kell elosztani két orosz paraszt Igor és Sasha között.\n",
    "- Igor jobban bírja az alkoholt ezért neki 8 liter-t kell adni amíg Sasha-nak 4 litert\n",
    "- Igornak 9 literes palackja van míg Sasha-nak csak 5 literes."
   ],
   "metadata": {
    "collapsed": false
   }
  },
  {
   "cell_type": "code",
   "execution_count": 180,
   "outputs": [
    {
     "data": {
      "text/plain": "'\\nH1={0,1,2,3,4,5,6,7,8,9,10,11,12}\\nH1={0,1,2,3,4,5,6,7,8,9}\\nH3={0,1,2,3,4,5}\\n\\nKezdőállapot:\\n<12, 0, 0>\\n\\nCélállapot:\\n<0, 8, 4>\\n'"
     },
     "execution_count": 180,
     "metadata": {},
     "output_type": "execute_result"
    }
   ],
   "source": [
    "\"\"\"\n",
    "H1={0,1,2,3,4,5,6,7,8,9,10,11,12}\n",
    "H1={0,1,2,3,4,5,6,7,8,9}\n",
    "H3={0,1,2,3,4,5}\n",
    "\n",
    "Kezdőállapot:\n",
    "<12, 0, 0>\n",
    "\n",
    "Célállapot:\n",
    "<0, 8, 4>\n",
    "\"\"\""
   ],
   "metadata": {
    "collapsed": false
   }
  },
  {
   "cell_type": "markdown",
   "source": [
    "### Futassa le az alábbi segéd osztályokat"
   ],
   "metadata": {
    "collapsed": false
   }
  },
  {
   "cell_type": "code",
   "execution_count": 181,
   "outputs": [],
   "source": [
    "class Problem:\n",
    "    def __init__(self, initial, goal=None):\n",
    "        self.initial = initial\n",
    "        self.goal = goal\n",
    "\n",
    "    def actions(self, state):\n",
    "        raise NotImplementedError\n",
    "\n",
    "    def result(self, state, action):\n",
    "        raise NotImplementedError\n",
    "\n",
    "    def goal_test(self, state):\n",
    "        if isinstance(self.goal, list):\n",
    "            for s in self.goal:\n",
    "                if s==state:\n",
    "                    return True\n",
    "\n",
    "            return False\n",
    "        else:\n",
    "            return state == self.goal\n",
    "\n",
    "    def path_cost(self, c, state1, action, state2):\n",
    "        return c + 1"
   ],
   "metadata": {
    "collapsed": false
   }
  },
  {
   "cell_type": "code",
   "execution_count": 182,
   "outputs": [],
   "source": [
    "class Node:\n",
    "    def __init__(self, state, parent=None, action=None, path_cost=0):\n",
    "        self.state = state\n",
    "        self.parent = parent\n",
    "        self.action = action\n",
    "        self.path_cost = path_cost\n",
    "        self.depth = 0\n",
    "        if parent:\n",
    "            self.depth = parent.depth + 1\n",
    "\n",
    "    def child_node(self, problem, action):\n",
    "        next_state = problem.result(self.state, action)\n",
    "        next_node = Node(state = next_state,\n",
    "                         parent = self,\n",
    "                         action = action,\n",
    "                         path_cost = problem.path_cost(self.path_cost, self.state, action, next_state))\n",
    "        return next_node\n",
    "\n",
    "    def expand(self, problem):\n",
    "        return [self.child_node(problem, action) for action in problem.actions(self.state)]\n",
    "\n",
    "    def solution(self):\n",
    "        return [node.action for node in self.path()[1:]]\n",
    "\n",
    "    def path(self):\n",
    "        node, path_back = self, []\n",
    "        while node:\n",
    "            path_back.append(node)\n",
    "            node = node.parent\n",
    "        return list(reversed(path_back))"
   ],
   "metadata": {
    "collapsed": false
   }
  },
  {
   "cell_type": "markdown",
   "source": [
    "### Adott a következő állapottér reprezentáció\n",
    "\n",
    "#### A farmer, a kecske, a farkas és a káposzta\n",
    "- Egy gazda át akar kelni egy folyón, és magával akar vinni egy farkast, egy kecskét és egy káposztát.\n",
    "- Van egy csónak, amelybe csak ketten férnek el, ő maga plusz vagy a farkas, a kecske vagy a káposzta.\n",
    "- Ha a farkas és a kecske egyedül vannak egy parton, a farkas megeszi a kecskét.\n",
    "- Ha a kecske és a káposzta egyedül van a parton, a kecske megeszi a káposztát."
   ],
   "metadata": {
    "collapsed": false
   }
  },
  {
   "cell_type": "markdown",
   "source": [
    "### Jellemzők\n",
    "\n",
    "- A jellemzők legyenek az egyes szereplők az általuk felvehető értékek pedig, hogy átkeltek, avagy nem a folyón.\n",
    "- Jelöljük 0-val hogy nem keltek át a folyón és 1-el hogy átkeltek\n",
    "- H1 = {0, 1}, farmer\n",
    "- H2 = {0, 1}, kecske\n",
    "- H3 = {0, 1}, farkas\n",
    "- H4 = {0, 1}, káposzta"
   ],
   "metadata": {
    "collapsed": false
   }
  },
  {
   "cell_type": "markdown",
   "source": [
    "### Állapotok halmaza\n",
    "\n",
    "- A ⊆ H1xH2xH3xH4\n",
    "- Legyen a !-jel a negáció\n",
    "- A = {<a1, a2, a3, a4> | <a1, a2, a3, a4> ∈ H1 x H2 x H3 x H4 ∧ [!(a1==1 ∧ a2==0 ∧ a3==0) v !(a1==1 ∧ a2==0 ∧ a4==0)]}"
   ],
   "metadata": {
    "collapsed": false
   }
  },
  {
   "cell_type": "markdown",
   "source": [
    "### Kezdő állapot:\n",
    "\n",
    "- a0 = <0, 0, 0, 0>"
   ],
   "metadata": {
    "collapsed": false
   }
  },
  {
   "cell_type": "markdown",
   "source": [
    "### Célállapotok:\n",
    "\n",
    "- C = <1, 1, 1, 1>"
   ],
   "metadata": {
    "collapsed": false
   }
  },
  {
   "cell_type": "markdown",
   "source": [
    "### Operátorok:\n",
    "\n",
    "- Legyen 1=farmer,2=farkas,3=kecske,4=kápozsta\n",
    "- O = {oi} = {oi | i ∈{1,2,3,4}}\n",
    "- Dom(oi)={<a1, a2, a3, a4>  | <a1, a2, a3, a4> ∈ A ∧ (a1=a2 ∧ a3!=a4) v (a1=a4 ∧ a2!=a3) v (a1=a3) v (a2!=a3 ∧ a3!=a4)}\n",
    "- oi(<a1, a2, a3, a4> = <b1, b2, b3, b4>)\n",
    "- bk, ahol b=1,2,3,4\n",
    "    - ak=!ak ∧ a1=!a1, ha k=i ∧ i!=1\n",
    "    - a1=!a1, ha k=i ∧ i==1\n",
    "    - ak, egyébként"
   ],
   "metadata": {
    "collapsed": false
   }
  },
  {
   "cell_type": "markdown",
   "source": [
    "2. (3 pont) Készítsen egy osztályt, amely megvalósítja az állapotér reprezentációt a Problem és Node osztályok segítségével. Az állapottér reprezentáció megvalósításához származzon le a Problem osztályból és írja meg annak \"állapot átmenet függvényét / operátorok / actions\" és \"operátor hatás definícióját / result\". Ha szükséges bármilyen egyéb program csomag a futtatáshoz annak megadásáról se feledkezzen meg."
   ],
   "metadata": {
    "collapsed": false
   }
  },
  {
   "cell_type": "code",
   "execution_count": 183,
   "outputs": [],
   "source": [
    "def is_valid(f, g, w, l) -> bool:\n",
    "    return (f == w and g != l) or \\\n",
    "        (f == l and w != g) or \\\n",
    "        (f == g) or \\\n",
    "        (w != g and g != l)\n",
    "\n",
    "class Folyo(Problem):\n",
    "    def actions(self, state):\n",
    "        f, g, w, l = state\n",
    "        acts = []\n",
    "\n",
    "        if is_valid(1, g, w, l):\n",
    "            acts.append([0, 1])\n",
    "\n",
    "        if is_valid(f, 1, w, l):\n",
    "            acts.append([1, 1])\n",
    "\n",
    "        if is_valid(f, g, 1, l):\n",
    "            acts.append([2, 1])\n",
    "\n",
    "        if is_valid(f, g, w, 1):\n",
    "            acts.append([3, 1])\n",
    "\n",
    "        if f == 1 and is_valid(0, g, w, l):\n",
    "            acts.append([0, 0])\n",
    "\n",
    "        return acts\n",
    "\n",
    "    def result(self, state, action):\n",
    "        f, g, w, l = state\n",
    "        user, s = action\n",
    "        new = [f, g, w, l]\n",
    "        new[user] = s\n",
    "        return new\n",
    "\n",
    "    def goal_test(self, state):\n",
    "        return all(user == 1 for user in state)"
   ],
   "metadata": {
    "collapsed": false
   }
  },
  {
   "cell_type": "markdown",
   "source": [
    "3. (1 pont) Példányosítsa a reprezentációt a kezdő és cél állapottal majd írassa ki a kezdő sé cél állapotot a \"print()\" függvény segítségével"
   ],
   "metadata": {
    "collapsed": false
   }
  },
  {
   "cell_type": "code",
   "execution_count": 184,
   "outputs": [
    {
     "name": "stdout",
     "output_type": "stream",
     "text": [
      "[0, 0, 0, 0] [1, 1, 1, 1]\n"
     ]
    }
   ],
   "source": [
    "f = Folyo([0,0,0,0], [1,1,1,1])\n",
    "print(f.initial, f.goal)"
   ],
   "metadata": {
    "collapsed": false
   }
  },
  {
   "cell_type": "markdown",
   "source": [
    "4. (1. pont) Írja meg a próba hiba módszert a megoldás megtalálásához. Írjon megjegyzés szabályos python formátumban amiben leírja, hogy pontosan mit csinál az algoritmus. Ha szükséges bármilyen egyéb program csomag a futtatáshoz annak megadásáról se feledkezzen meg."
   ],
   "metadata": {
    "collapsed": false
   }
  },
  {
   "cell_type": "code",
   "execution_count": 185,
   "outputs": [],
   "source": [
    "import numpy as np\n",
    "\n",
    "def trial_error(problem: Problem):\n",
    "    state = Node(problem.initial)\n",
    "\n",
    "    while True:\n",
    "        if problem.goal_test(state.state):\n",
    "            return state\n",
    "\n",
    "        successors = state.expand(problem)\n",
    "\n",
    "        if len(successors) == 0:\n",
    "            return 'Unsolvable'\n",
    "\n",
    "        state = successors[np.random.randint(0, len(successors))]\n",
    "        print(state.state)"
   ],
   "metadata": {
    "collapsed": false
   }
  },
  {
   "cell_type": "markdown",
   "source": [
    "5. (1 pont) Futtasa a próba hiba módszert az elkészített reprezentációra és találja meg a megoldást."
   ],
   "metadata": {
    "collapsed": false
   }
  },
  {
   "cell_type": "code",
   "execution_count": 186,
   "outputs": [
    {
     "name": "stdout",
     "output_type": "stream",
     "text": [
      "[0, 1, 0, 0]\n",
      "[1, 1, 0, 0]\n",
      "[1, 1, 1, 0]\n",
      "[1, 1, 1, 0]\n",
      "[1, 1, 1, 0]\n",
      "[1, 1, 1, 0]\n",
      "[1, 1, 1, 1]\n"
     ]
    },
    {
     "data": {
      "text/plain": "[[1, 1], [0, 1], [2, 1], [2, 1], [2, 1], [0, 1], [3, 1]]"
     },
     "execution_count": 186,
     "metadata": {},
     "output_type": "execute_result"
    }
   ],
   "source": [
    "trial_error(f).solution()"
   ],
   "metadata": {
    "collapsed": false
   }
  },
  {
   "cell_type": "markdown",
   "source": [
    "6. (1 pont) Írja meg a szélességi keresést a megoldás megtalálásához. Írjon megjegyzés szabályos python formátumban amiben leírja, hogy pontosan mit csinál az algoritmus. Ha szükséges bármilyen egyéb program csomag a futtatáshoz annak megadásáról se feledkezzen meg."
   ],
   "metadata": {
    "collapsed": false
   }
  },
  {
   "cell_type": "code",
   "execution_count": 187,
   "outputs": [],
   "source": [
    "from collections import deque\n",
    "\n",
    "def breadth_first_search(problem: Problem) -> Node:\n",
    "    frontier = deque([Node(problem.initial)])\n",
    "\n",
    "    while frontier:\n",
    "        node: Node = frontier.popleft()\n",
    "        print(node.state)\n",
    "\n",
    "        if problem.goal_test(node.state):\n",
    "            return node\n",
    "\n",
    "        frontier.extend(node.expand(problem))"
   ],
   "metadata": {
    "collapsed": false
   }
  },
  {
   "cell_type": "markdown",
   "source": [
    "7. (1 pont) Futtasa a szélességi keresést az elkészített reprezentációra és találja meg a megoldást. Ha szükséges bármilyen egyéb program csomag a futtatáshoz annak megadásáról se feledkezzen meg."
   ],
   "metadata": {
    "collapsed": false
   }
  },
  {
   "cell_type": "code",
   "execution_count": 188,
   "outputs": [
    {
     "name": "stdout",
     "output_type": "stream",
     "text": [
      "[0, 0, 0, 0]\n",
      "[0, 1, 0, 0]\n",
      "[0, 0, 1, 0]\n",
      "[0, 0, 0, 1]\n",
      "[1, 1, 0, 0]\n",
      "[0, 1, 0, 0]\n",
      "[0, 0, 1, 0]\n",
      "[0, 0, 1, 1]\n",
      "[0, 0, 1, 1]\n",
      "[0, 0, 0, 1]\n",
      "[1, 1, 0, 0]\n",
      "[1, 1, 0, 0]\n",
      "[1, 1, 1, 0]\n",
      "[1, 1, 0, 1]\n",
      "[0, 1, 0, 0]\n",
      "[1, 1, 0, 0]\n",
      "[0, 1, 0, 0]\n",
      "[0, 0, 1, 0]\n",
      "[0, 0, 1, 1]\n",
      "[1, 0, 1, 1]\n",
      "[0, 0, 1, 1]\n",
      "[0, 0, 1, 1]\n",
      "[1, 0, 1, 1]\n",
      "[0, 0, 1, 1]\n",
      "[0, 0, 1, 1]\n",
      "[0, 0, 1, 1]\n",
      "[0, 0, 0, 1]\n",
      "[1, 1, 0, 0]\n",
      "[1, 1, 0, 0]\n",
      "[1, 1, 1, 0]\n",
      "[1, 1, 0, 1]\n",
      "[0, 1, 0, 0]\n",
      "[1, 1, 0, 0]\n",
      "[1, 1, 0, 0]\n",
      "[1, 1, 1, 0]\n",
      "[1, 1, 0, 1]\n",
      "[0, 1, 0, 0]\n",
      "[1, 1, 1, 0]\n",
      "[1, 1, 1, 0]\n",
      "[1, 1, 1, 0]\n",
      "[1, 1, 1, 1]\n"
     ]
    },
    {
     "data": {
      "text/plain": "<__main__.Node at 0x19e013f84d0>"
     },
     "execution_count": 188,
     "metadata": {},
     "output_type": "execute_result"
    }
   ],
   "source": [
    "breadth_first_search(f)"
   ],
   "metadata": {
    "collapsed": false
   }
  }
 ],
 "metadata": {
  "kernelspec": {
   "display_name": "kdp",
   "language": "python",
   "name": "kdp"
  },
  "language_info": {
   "codemirror_mode": {
    "name": "ipython",
    "version": 3
   },
   "file_extension": ".py",
   "mimetype": "text/x-python",
   "name": "python",
   "nbconvert_exporter": "python",
   "pygments_lexer": "ipython3",
   "version": "3.10.4"
  },
  "orig_nbformat": 4
 },
 "nbformat": 4,
 "nbformat_minor": 2
}
