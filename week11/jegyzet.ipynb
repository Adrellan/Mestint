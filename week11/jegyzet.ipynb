{
 "cells": [
  {
   "cell_type": "code",
   "execution_count": 3,
   "metadata": {},
   "outputs": [
    {
     "data": {
      "text/plain": [
       "array([[0., 0., 0., 0., 0., 0., 0., 0., 0., 0.],\n",
       "       [0., 0., 0., 0., 0., 0., 0., 0., 0., 0.],\n",
       "       [0., 0., 0., 0., 0., 0., 0., 0., 0., 0.],\n",
       "       [0., 0., 0., 0., 0., 0., 0., 0., 0., 0.],\n",
       "       [0., 0., 0., 0., 0., 0., 0., 0., 0., 0.]])"
      ]
     },
     "execution_count": 3,
     "metadata": {},
     "output_type": "execute_result"
    }
   ],
   "source": [
    "import numpy as np\n",
    "\n",
    "Q = np.zeros((5,10))\n",
    "Q"
   ]
  },
  {
   "attachments": {},
   "cell_type": "markdown",
   "metadata": {},
   "source": [
    "# Megerősítéses tanulás"
   ]
  },
  {
   "cell_type": "code",
   "execution_count": 7,
   "metadata": {},
   "outputs": [],
   "source": [
    "import pygame\n",
    "import numpy as np\n",
    "from tqdm import tqdm\n",
    "\n",
    "#Színek \n",
    "BLACK = (0,0,0)\n",
    "WHITE = (255,255,255)\n",
    "RED = (255,0,0)\n",
    "GREEN = (0,255,0)\n",
    "BLUE = (0,0,255)\n",
    "\n",
    "# Jelek a játék dekódolásához\n",
    "\n",
    "# - üres (egy labdához vagy játékshoz nem tartozó cella)\n",
    "SIGN_EMPTY = \" \"\n",
    "\n",
    "# - labda\n",
    "SIGN_BALL = \"o\"\n",
    "\n",
    "# - játékos (a téglalap)\n",
    "SIGN_PLAYER = \"x\"\n",
    "\n",
    "# Az \"ablak\" nagyítás nélküli mérete\n",
    "SPACE_SIZE = (20,20)\n",
    "\n",
    "\n",
    "# Nagyításra fogjuk használni\n",
    "# A felhasználói felület mérete SPACE_SIZE * ZOOM_SIZE\n",
    "ZOOM_SIZE = 10\n",
    "\n",
    "\n",
    "# 3 műveletünk van. amelyet az ügynökbármikor megtehet:\n",
    "ACTION_IDLE = \"IDLE\"\n",
    "\n",
    "ACTION_LEFT = \"LEFT\"\n",
    "\n",
    "ACTION_RIGHT = \"RIGHT\"\n",
    "\n",
    "ATIONS = [\n",
    "    ACTION_IDLE,\n",
    "    ACTION_LEFT,\n",
    "    ACTION_RIGHT\n",
    "]\n",
    "\n",
    "# A lapát kezdő koordinátái\n",
    "rect_x = SPACE_SIZE[0] // 2\n",
    "rect_y = SPACE_SIZE[1] - 1\n",
    "\n",
    "rect_size_x = 5\n",
    "rect_size_to_sides_x = rect_size_x // 2\n",
    "rect_size_y = 1\n",
    "\n",
    "rect_chage_x = 0\n",
    "rect_chage_y = 0\n",
    "\n",
    "# A labda kezdeti helyzete\n",
    "ball_x = SPACE_SIZE[0] // 2\n",
    "ball_y = 1\n",
    "\n",
    "# A labda sebessége\n",
    "ball_change_x = 1\n",
    "ball_change_y = 1\n",
    "ball_size_to_sides = 1\n",
    "\n",
    "# A dictionary-t arra fogjuk használni, hogy nyomon követhessük azokat az állapotokat, amelyekkel eddig találkoztunk\n",
    "state_ti_id = {}\n",
    "\n",
    "# A lehetséges állapotok száma összesen\n",
    "num_states = SPACE_SIZE[0] * SPACE_SIZE[1] * SPACE_SIZE[0] * SPACE_SIZE[1] * 2 * 2\n",
    "\n",
    "# A képernyő mérete\n",
    "screen = 0\n",
    "\n",
    "# Agent\n",
    "agent = None\n",
    "\n",
    "def drawrect(screen,x,y):\n",
    "    # Mozgatja a laptátot, korlátozza a mozgást a kép két szélére\n",
    "    pygame.draw.rect(screen, RED, [(x - rect_size_to_sides_x) * ZOOM_SIZE,\n",
    "                                    y * ZOOM_SIZE, ZOOM_SIZE * rect_size_x,\n",
    "                                    ZOOM_SIZE])\n",
    "\n",
    "def encode_state(ball_x, ball_y, rect_x, rect_y, ball_change_x, ball_change_y):\n",
    "    # Kódolja az adott állapotot, hogy megkönnyítse az adott állapot felismerését\n",
    "    return (ball_x, ball_y, rect_x, rect_y, ball_change_x, ball_change_y)\n",
    "\n",
    "def reset():\n",
    "    # Visszaállítjuk a globális változókat\n",
    "    global ball_change_x\n",
    "    global ball_change_y\n",
    "    global ball_size_to_sides\n",
    "    global ball_x\n",
    "    global ball_y\n",
    "    global rect_x\n",
    "    global rect_y\n",
    "    global rect_chage_x\n",
    "    global rect_change_y\n",
    "\n",
    "# Labda mozgás vissza\n",
    "ball_change_x = 1\n",
    "ball_change_y = 1\n",
    "ball_size_to_sides = 1\n",
    "\n",
    "# A labda helyzeének vissza\n",
    "ball_x = SPACE_SIZE[0] // 2\n",
    "ball_y = 1\n",
    "\n",
    "# A lapát kezdő koord vissza\n",
    "rect_x = SPACE_SIZE[0] // 2\n",
    "rect_y = SPACE_SIZE[1] - 1\n",
    "\n",
    "# A lapát kezdő seb vissza\n",
    "rect_chage_x = 0\n",
    "rect_chage_y = 0\n",
    "\n",
    "def init_pong():\n",
    "    global screen\n",
    "    global clock\n",
    "\n",
    "    pygame.init\n",
    "\n",
    "    # A kijelző ablak inicializálása\n",
    "    size = (SPACE_SIZE[0] * ZOOM_SIZE, SPACE_SIZE[1] * ZOOM_SIZE)\n",
    "    screen = pygame.display.set_mode(size)\n",
    "    pygame.display.set_caption(\"pong\")\n",
    "\n",
    "    clock=pygame.time.Clock()\n",
    "\n",
    "    print(\"Pong init\")\n",
    "\n",
    "def play_episodes(n_episodes=10_000, max_epsilon=1.0, min_epsilon=0.05, decay_rate=0.0001, gamma=0.99, learn=True, viz=False, human=False, log=False):\n",
    "    return 0\n",
    "\n",
    "\n"
   ]
  },
  {
   "cell_type": "code",
   "execution_count": 11,
   "metadata": {},
   "outputs": [
    {
     "name": "stdout",
     "output_type": "stream",
     "text": [
      "Pong init\n"
     ]
    }
   ],
   "source": [
    "from qla import QLearningAgent\n",
    "\n",
    "agent = QLearningAgent(n_states=num_states, n_actions=3, learning_rate=1.0)\n",
    "agent"
   ]
  }
 ],
 "metadata": {
  "kernelspec": {
   "display_name": "Python 3",
   "language": "python",
   "name": "python3"
  },
  "language_info": {
   "codemirror_mode": {
    "name": "ipython",
    "version": 3
   },
   "file_extension": ".py",
   "mimetype": "text/x-python",
   "name": "python",
   "nbconvert_exporter": "python",
   "pygments_lexer": "ipython3",
   "version": "3.11.1"
  },
  "orig_nbformat": 4,
  "vscode": {
   "interpreter": {
    "hash": "5238573367df39f7286bb46f9ff5f08f63a01a80960060ce41e3c79b190280fa"
   }
  }
 },
 "nbformat": 4,
 "nbformat_minor": 2
}
